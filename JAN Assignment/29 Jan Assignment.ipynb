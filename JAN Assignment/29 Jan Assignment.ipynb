{
 "cells": [
  {
   "cell_type": "markdown",
   "id": "0577b3f7-e80a-40b7-99ec-1d6af0abf64c",
   "metadata": {},
   "source": [
    "### 1. Who developed Python Programming Language?"
   ]
  },
  {
   "cell_type": "code",
   "execution_count": null,
   "id": "76650238-7fcc-4ece-a7f2-8171e8f0cf7c",
   "metadata": {},
   "outputs": [],
   "source": [
    "Ans - Guido van Rossum"
   ]
  },
  {
   "cell_type": "markdown",
   "id": "65f7fb78-3889-454a-8ce4-56d4e1aa05fe",
   "metadata": {},
   "source": [
    "### 2. Which type of programming does Python supports?"
   ]
  },
  {
   "cell_type": "code",
   "execution_count": null,
   "id": "e4ffcb1a-b5db-4910-9347-d50d87c76dde",
   "metadata": {},
   "outputs": [],
   "source": [
    "Ans - Python is an interpreted programming language, supporting object-oriented, structured, and functional programming."
   ]
  },
  {
   "cell_type": "markdown",
   "id": "01d13263-cdf2-4989-8905-28620ff52f3b",
   "metadata": {},
   "source": [
    "## 3. Is Python is case sensitive when dealing with identifiers?"
   ]
  },
  {
   "cell_type": "code",
   "execution_count": null,
   "id": "c80de3dc-93f2-4708-9ab3-1944bdcac249",
   "metadata": {},
   "outputs": [],
   "source": [
    "Ans - Yes, Python is a case-sensitive language"
   ]
  },
  {
   "cell_type": "markdown",
   "id": "562ab612-cf1a-45ce-bdaa-9d439d0364a1",
   "metadata": {},
   "source": [
    "### 4. What is the correct extension of Python File ?"
   ]
  },
  {
   "cell_type": "code",
   "execution_count": null,
   "id": "3d0a18d2-2f01-4fce-8f96-f12ac2194d56",
   "metadata": {},
   "outputs": [],
   "source": [
    "Ans - pyc files. . pyc: This is the file extension for compiled Python code files."
   ]
  },
  {
   "cell_type": "markdown",
   "id": "7beb9dbb-6a6d-4214-b5d4-8d0719e5f571",
   "metadata": {},
   "source": [
    "### 5. Is Python code is compiled or interpreted?"
   ]
  },
  {
   "cell_type": "code",
   "execution_count": null,
   "id": "24e12400-f16f-45b9-8a14-1a4b7c05ac3d",
   "metadata": {},
   "outputs": [],
   "source": [
    "Ans - Python is an interpreted language, which means the source code of a Python program is converted into bytecode that is then executed by the Python virtual machine."
   ]
  },
  {
   "cell_type": "markdown",
   "id": "787cbe73-7acd-49cc-992a-ea622e0132c3",
   "metadata": {},
   "source": [
    "### 6. Name few blocks of code used to define in Python Language?"
   ]
  },
  {
   "cell_type": "code",
   "execution_count": null,
   "id": "62bd6ec2-e397-4c9e-9537-f0d3e219e8ee",
   "metadata": {},
   "outputs": [],
   "source": [
    "Ans - The following are blocks: a module, a function body, and a class definition. Each command typed interactively is a block. A script file (a file given as standard input\n",
    "      to the interpreter or specified as a command line argument to the interpreter) is a code block."
   ]
  },
  {
   "cell_type": "markdown",
   "id": "568c8285-1cb0-49b7-8841-a232ac7cc8a6",
   "metadata": {},
   "source": [
    "### 7. State a character used to give single-line comments in Python?"
   ]
  },
  {
   "cell_type": "code",
   "execution_count": null,
   "id": "6e4a18fe-caab-4906-9647-cb44477ed7cf",
   "metadata": {},
   "outputs": [],
   "source": [
    "Ans - We can write a single-line comment by adding a single ' # ' character before any statement or line of code"
   ]
  },
  {
   "cell_type": "markdown",
   "id": "e085338b-023b-41fb-b5c4-4373b1d20518",
   "metadata": {},
   "source": [
    "### 8. Mention a function which can help us to find the version of Python that e are currently working on?"
   ]
  },
  {
   "cell_type": "code",
   "execution_count": null,
   "id": "3fa011cf-3dc3-41bd-a2e6-45c56dc76ce6",
   "metadata": {},
   "outputs": [],
   "source": [
    "Ans - The function sys. version can help us to find the version of python that we are currently working on. It also contains information on the build number and compiler used."
   ]
  },
  {
   "cell_type": "markdown",
   "id": "3997787e-1129-4a4d-9f62-3b1385089511",
   "metadata": {},
   "source": [
    "### 9. Python supports the creation of anomymus function at runtime using a construct called _______ ?"
   ]
  },
  {
   "cell_type": "code",
   "execution_count": null,
   "id": "3851c41a-bb0a-4bad-8c11-00dd749f576d",
   "metadata": {},
   "outputs": [],
   "source": [
    "Ans - Python supports the creation of anonymous functions (i.e. functions that are not bound to a name) at runtime, using a construct called lambda."
   ]
  },
  {
   "cell_type": "markdown",
   "id": "60c1ca43-1eca-4e5e-a1f7-91d96db213bc",
   "metadata": {},
   "source": [
    "### 10. What does pip stands for Python ?"
   ]
  },
  {
   "cell_type": "code",
   "execution_count": null,
   "id": "2664ccd0-de36-4b51-9efd-0f7ce685843e",
   "metadata": {},
   "outputs": [],
   "source": [
    "Ans - Developed in 2008, pip (an acronym of “pip Install Packages”) is today the standard tool for installing Python packages and their dependencies in a secure manner. \n",
    "Most recent distributions of Python come with pip preinstalled. Python 2.7. 9 and Python 3.4 and later versions include pip by default."
   ]
  },
  {
   "cell_type": "markdown",
   "id": "6698168e-e588-4ee4-85c7-fc00726d650f",
   "metadata": {},
   "source": [
    "### 11. Mention a few built-in function in Python?"
   ]
  },
  {
   "cell_type": "code",
   "execution_count": null,
   "id": "5364d8bf-5c78-4c73-867b-fab21d58cf15",
   "metadata": {},
   "outputs": [],
   "source": [
    "Ans - The pre-defined built-in function of the python programming language is given below:\n",
    "\n",
    "Python abs()\n",
    "\n",
    "this function is used to generate the absolute value of a number\n",
    "\n",
    "Python all()\n",
    "\n",
    "This python returns true when all the elements in iterable are true\n",
    "\n",
    "Python any()\n",
    "\n",
    "This method is used to check if any Element of an Iterable is True\n",
    "\n",
    "Python ascii()\n",
    "\n",
    "Returns String Containing Printable Representation\n",
    "\n",
    "Python bin()\n",
    "\n",
    "this function is used to convert an integer to the equal binary string\n",
    "\n",
    "Python bool()\n",
    "\n",
    "Converts the given Value to Boolean\n",
    "\n",
    "Python bytearray()\n",
    "\n",
    "the method is used to return an array of given byte size\n",
    "\n",
    "Python bytes()\n",
    "\n",
    "the method is used to return an immutable bytes object\n",
    "\n",
    "Python callable()\n",
    "\n",
    "this method checks if the Object is Callable\n",
    "\n",
    "Python chr()\n",
    "\n",
    "From an Integer, this function returns a Character (a string).\n",
    "\n",
    "Python classmethod()\n",
    "\n",
    "for a given function, returns the class method\n",
    "\n",
    "Python compile()\n",
    "\n",
    "This method returns a Python code object.\n",
    "\n",
    "Python complex()\n",
    "\n",
    "Creates a Complex Number\n",
    "\n",
    "Python delattr()\n",
    "\n",
    "Removes an attribute from an object.\n",
    "\n",
    "Python dict()\n",
    "\n",
    "Creates a Dictionary\n",
    "\n",
    "Python dir()\n",
    "\n",
    "Tries to Return Attributes of Object\n",
    "\n",
    "Python divmod()\n",
    "\n",
    "Returns a Quotient and Remainder Tuple.\n",
    "\n",
    "Python enumerate()\n",
    "\n",
    "Returns an Enumerate Object\n",
    "\n",
    "Python eval()\n",
    "\n",
    "Runs Python Code Within Program\n",
    "\n",
    "Python exec()\n",
    "\n",
    "Executes a Program That Was Created Dynamically\n",
    "\n",
    "Python filter()\n",
    "\n",
    "constructs iterator from true elements\n",
    "\n",
    "Python float()\n",
    "\n",
    "returns floating-point number from number, string\n",
    "\n",
    "Python format()\n",
    "\n",
    "returns a formatted representation of a value\n",
    "\n",
    "Python frozenset()\n",
    "\n",
    "returns immutable frozenset object"
   ]
  },
  {
   "cell_type": "markdown",
   "id": "2012ed96-a9a2-4f03-9ea3-fd3a4edc4e7f",
   "metadata": {},
   "source": [
    "### 12. What is the maximum possible length of an identifier in Python?"
   ]
  },
  {
   "cell_type": "code",
   "execution_count": null,
   "id": "ae4747ea-5126-449b-91df-ca0584b7fcac",
   "metadata": {},
   "outputs": [],
   "source": [
    "Ans - An identifier can have a maximum length of 79 characters in Python. "
   ]
  },
  {
   "cell_type": "markdown",
   "id": "84e91f9e-fb46-4a95-b115-aa8d1f076e81",
   "metadata": {},
   "source": [
    "### 13. What are the benefits of using Python?"
   ]
  },
  {
   "cell_type": "code",
   "execution_count": null,
   "id": "93158e74-33e3-42d9-b694-005cb696623e",
   "metadata": {},
   "outputs": [],
   "source": [
    "Ans - Benefits of Python\n",
    "\n",
    "1. Simple to Use and Understand\n",
    "\n",
    "For newcomers, Python is simple to understand and use. \n",
    "It's a highly developed programming language with an English-like syntax. The language is simple to adapt as a result of these factors. Because of its simplicity, Python's fundamentals \n",
    "can be implemented faster than those in other programming languages.\n",
    "Python is distributed under an open-source license approved by the Open-Source Initiative (OSI).\n",
    "As a result, users can work on it and distribute it. Users can download the source code, modify it, and even distribute their Python version. \n",
    "Companies that wish to modify a specific behavior and build their version will benefit.\n",
    "\n",
    "2. Productivity has Increased\n",
    "\n",
    "Users can create new kinds of applications using the Python programming language. Because of its versatility, this language permits the operator to try new things. \n",
    "Because of the language, the user is not prevented from trying something new. Python is favored in these scenarios since other programming languages lack the flexibility and freedom that Python does.\n",
    "\n",
    "3. Interpreted Language\n",
    "\n",
    "It is an interpreted language, implying that the code is implemented line by line. This is one of the features that makes it simple to use. \n",
    "In the event of an error, it halts the process and reports the problem. Python only shows one error, even if the program has multiple errors. This makes debugging easier.\n",
    "\n",
    "4. Extensive library\n",
    "\n",
    "Python includes a huge number of libraries that the user can use. The standard library in Python is immense, and it includes almost every function imaginable. \n",
    "Large and supportive communities, as well as corporate sponsorship, have contributed to this. When working with Python, users do not need to use external libraries.\n",
    "\n",
    "5. Dynamically Typed\n",
    "\n",
    "\n",
    "Until we run the program, Python has no idea what kinds of parameter we're talking about. It allocates the data type automatically during execution. \n",
    "Variables and their data types do not need to be declared by the programmer.\n",
    "\n",
    "6. Portability\n",
    "\n",
    "Many other languages, including C/C++, demand that user must change their code to run on different platforms. Python, on the contrary, is not equivalent to other programming languages. \n",
    "It only needs to be written once, and then it can be run anywhere. However, the user should avoid involving any system-dependent features.\n",
    "\n",
    "7. Supportive community\n",
    "\n",
    "Python is a programming language generated many years ago and has a large community that can assist programmers of all experience levels, from rookies to specialists.\n",
    "Python's community has helped it grow quickly in comparison to other languages. The Python programming language comes with many guides, instructional videos, \n",
    "and highly understandable documentation to help developers learn the language faster and more effectively."
   ]
  },
  {
   "cell_type": "markdown",
   "id": "ad2848e0-a9b0-47a8-bd85-be6b118d1c3a",
   "metadata": {},
   "source": [
    "### 14. How is memory managed in Python?"
   ]
  },
  {
   "cell_type": "code",
   "execution_count": null,
   "id": "441dbd01-4b23-447d-bf33-3f3ca42cd214",
   "metadata": {},
   "outputs": [],
   "source": [
    "Ans - The memory is a heap that stores the program's objects and other data structures. The Python memory manager uses API methods to handle the allocation and deallocation of this heap space. \n",
    "We create a new Class in the example above. After that, we created an instance of the class and made it a property of itself."
   ]
  },
  {
   "cell_type": "markdown",
   "id": "93e136ae-a39f-4aab-89e9-5910bc511d3a",
   "metadata": {},
   "source": [
    "### 15. How to install Python on Windows and set path variables?"
   ]
  },
  {
   "cell_type": "markdown",
   "id": "e7a5569a-0601-4118-b0bd-8f36e7ad6144",
   "metadata": {},
   "source": [
    "Ans - Install Python -\n",
    "\n",
    "Step 1 − Select Version of Python to Install.\n",
    "Step 2 − Download Python Executable Installer. \n",
    "Step 3 − Run Executable Installer. \n",
    "Step 4 − Verify Python is installed on Windows. \n",
    "Step 5 − Verify Pip was installed.\n",
    "\n",
    "The complete path of python.exe can be added by:\n",
    "\n",
    "1. Right click on My Computer and click on properties.\n",
    "2. Click on Advanced System settings.\n",
    "3. Click on Environment Variable tab.\n",
    "4. Click on new tab of user variables.\n",
    "5. Write path in variable name.\n",
    "6. Copy the path of Python folder.\n",
    "7. Paste path of Python in variable value. Click on Ok button: Click on Ok butto\n"
   ]
  },
  {
   "cell_type": "markdown",
   "id": "93c9d78f-8283-4569-8a0d-31ef12a50a52",
   "metadata": {},
   "source": [
    "### 16. Is indentation required in Python?"
   ]
  },
  {
   "cell_type": "code",
   "execution_count": null,
   "id": "f3ea4776-6d0a-4815-8b56-a58a31fd0330",
   "metadata": {},
   "outputs": [],
   "source": [
    "Ans - Indentation is mandatory in python to define the blocks of statements. The number of spaces must be uniform in a block of code. It is preferred to use whitespaces instead of tabs to indent in python."
   ]
  }
 ],
 "metadata": {
  "kernelspec": {
   "display_name": "Python 3 (ipykernel)",
   "language": "python",
   "name": "python3"
  },
  "language_info": {
   "codemirror_mode": {
    "name": "ipython",
    "version": 3
   },
   "file_extension": ".py",
   "mimetype": "text/x-python",
   "name": "python",
   "nbconvert_exporter": "python",
   "pygments_lexer": "ipython3",
   "version": "3.10.8"
  }
 },
 "nbformat": 4,
 "nbformat_minor": 5
}
