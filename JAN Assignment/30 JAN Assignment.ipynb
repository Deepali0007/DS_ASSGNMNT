{
 "cells": [
  {
   "cell_type": "markdown",
   "id": "18775b3f-9da0-4ab7-8dff-cc574f9818e5",
   "metadata": {},
   "source": [
    "### 1. Write a program to accept ercentage from user and display the grade according to the following criteria -"
   ]
  },
  {
   "cell_type": "code",
   "execution_count": 5,
   "id": "192748f4-ce1e-4a74-afca-c4610b6aa729",
   "metadata": {},
   "outputs": [
    {
     "name": "stdin",
     "output_type": "stream",
     "text": [
      "Enter percentage:  98\n"
     ]
    },
    {
     "name": "stdout",
     "output_type": "stream",
     "text": [
      "Grade A\n"
     ]
    }
   ],
   "source": [
    "marks=int(input(\"Enter percentage: \"))\n",
    "\n",
    "if (marks>90):\n",
    "    print(\"Grade A\")\n",
    "elif marks>80 and marks<=90:\n",
    "    print(\"Grade B\")\n",
    "elif marks>=60 and marks<=80:\n",
    "    print(\"Grade C\")\n",
    "else:\n",
    "    print(\"Grade D\")"
   ]
  },
  {
   "cell_type": "markdown",
   "id": "a52ac77e-d75c-4630-88a0-f010fad03642",
   "metadata": {},
   "source": [
    "### 2. Write a program to accept the cost price of a bike and display the road tax to be paid according to the following criteria -"
   ]
  },
  {
   "cell_type": "code",
   "execution_count": 6,
   "id": "37c83cb8-cd18-41fe-b4fb-dae573eed4dc",
   "metadata": {},
   "outputs": [
    {
     "name": "stdin",
     "output_type": "stream",
     "text": [
      "Enter cost:  4500\n"
     ]
    },
    {
     "name": "stdout",
     "output_type": "stream",
     "text": [
      "Road tax is 5%\n"
     ]
    }
   ],
   "source": [
    "cost=int(input(\"Enter cost: \"))\n",
    "\n",
    "if (cost>100000):\n",
    "    print(\"Road tax is 15%\")\n",
    "elif cost>50000 and cost<=100000:\n",
    "    print(\"Road tax is 10%\")\n",
    "else:\n",
    "    print(\"Road tax is 5%\")"
   ]
  },
  {
   "cell_type": "markdown",
   "id": "587b5ec9-7ac2-4e56-b8ed-d412ced71a06",
   "metadata": {},
   "source": [
    "### 3. Accept any city from the user and display monument of that city -"
   ]
  },
  {
   "cell_type": "code",
   "execution_count": 9,
   "id": "6caf384c-89b5-49ad-9092-dc5135b3853b",
   "metadata": {},
   "outputs": [
    {
     "name": "stdin",
     "output_type": "stream",
     "text": [
      "enter the city name\n",
      " Delhi\n"
     ]
    },
    {
     "name": "stdout",
     "output_type": "stream",
     "text": [
      "monument of the city:\n",
      " red fort\n"
     ]
    }
   ],
   "source": [
    "city=input('enter the city name\\n')\n",
    "if city=='Delhi':\n",
    "    print('monument of the city:\\n','red fort')\n",
    "elif city=='Agra':\n",
    "    print('monument of the city:\\n',' Taj Mahal')\n",
    "elif city=='Jaipur':\n",
    "    print( 'monument of the city:\\n','jal Mahal')"
   ]
  },
  {
   "cell_type": "markdown",
   "id": "e676c5ce-3282-497a-b3b0-8d831da39d87",
   "metadata": {},
   "source": [
    "### 4. Check how many times a given number can be divided by 3 before it is less than or equal to 10 ?"
   ]
  },
  {
   "cell_type": "code",
   "execution_count": 11,
   "id": "309473f6-da57-4e5d-96e1-4fc5457f838a",
   "metadata": {},
   "outputs": [
    {
     "name": "stdin",
     "output_type": "stream",
     "text": [
      "Enter the desired number:  269\n"
     ]
    },
    {
     "name": "stdout",
     "output_type": "stream",
     "text": [
      "Total times it took to divide the 269 to 3 before it became equals to or less than 10 are/is: 3\n"
     ]
    }
   ],
   "source": [
    "count = 0\n",
    "og_num = number = int(input('Enter the desired number: '))\n",
    "while number > 10:\n",
    "    number = number / 3\n",
    "    count += 1\n",
    "print('Total times it took to divide the {} to 3 before it became equals to or less than 10 are/is: {}'.format(og_num, count))"
   ]
  },
  {
   "cell_type": "markdown",
   "id": "0a4e09c0-c9e2-47dd-b5ab-6a0dd2cae188",
   "metadata": {},
   "source": [
    "### 5. Why and when to use While loop in python give detail description with example ?"
   ]
  },
  {
   "cell_type": "code",
   "execution_count": null,
   "id": "3d01b839-5377-4e85-8021-2eb1230c2371",
   "metadata": {},
   "outputs": [],
   "source": [
    "While loop is a looping comparison function which can be used to perform repetitve task until the given condition is true. \n",
    "While loop is often useful when we don't know the exact number of iteration that it will take to give the output.\n",
    "\n",
    "example: In the below code a number will be divided by 3 until it becomes equals to or less than 10. \n",
    "Here as we don't know number before hand we are using \"While number > 10\" that means that while loop will continue its execution until number is greater than 10 and as soon as number becomes\n",
    "less than or equals to 10 it will come out of the loop and print the result as needed.\n",
    "\n",
    "count = 0\n",
    "\n",
    "og_num = number = int(input('Enter the desired number: '))\n",
    "\n",
    "while number > 10:\n",
    "\n",
    "number = number / 3\n",
    "\n",
    "count += 1\n",
    "\n",
    "print('Total times it took to divide the {} to 3 before it became equals to or less than 10 are/is: {}'.format(og_num, count))"
   ]
  },
  {
   "cell_type": "markdown",
   "id": "925fc212-ddbe-4505-a560-4334dad50881",
   "metadata": {},
   "source": [
    "### 6. Use nested while loop to print 3 different pattern?"
   ]
  },
  {
   "cell_type": "code",
   "execution_count": 11,
   "id": "ea7d4b2c-a770-4534-bace-5419abd94969",
   "metadata": {},
   "outputs": [
    {
     "name": "stdin",
     "output_type": "stream",
     "text": [
      "Enter number:  6\n"
     ]
    },
    {
     "name": "stdout",
     "output_type": "stream",
     "text": [
      " * \n",
      " *  * \n",
      " *  *  * \n",
      " *  *  *  * \n",
      " *  *  *  *  * \n",
      " *  *  *  *  *  * \n"
     ]
    }
   ],
   "source": [
    "#Pyramid pattern\n",
    "\n",
    "n = int(input('Enter number: '))\n",
    "pattern_count = 1\n",
    "while pattern_count < n + 1:\n",
    "    j = 1\n",
    "    while j <= pattern_count:\n",
    "        print(' * ', end = '')\n",
    "        j += 1\n",
    "    print('')\n",
    "    pattern_count += 1"
   ]
  },
  {
   "cell_type": "code",
   "execution_count": 1,
   "id": "6e35d2ad-853f-4af5-b1d4-5e315eace675",
   "metadata": {},
   "outputs": [
    {
     "name": "stdin",
     "output_type": "stream",
     "text": [
      "Enter the number of rows:  5\n"
     ]
    },
    {
     "name": "stdout",
     "output_type": "stream",
     "text": [
      " *  *  *  *  * \n",
      " *  *  *  * \n",
      " *  *  * \n",
      " *  * \n",
      " * \n"
     ]
    }
   ],
   "source": [
    "#Inverted Pyramid\n",
    "\n",
    "n = int(input('Enter the number of rows: '))\n",
    "pattern_count = 1\n",
    "while pattern_count < n + 1:\n",
    "    j = n\n",
    "    while j >= pattern_count:\n",
    "        print(' * ', end = '')\n",
    "        j -= 1\n",
    "    print('')\n",
    "    pattern_count += 1"
   ]
  },
  {
   "cell_type": "code",
   "execution_count": 2,
   "id": "6055e6e7-e6b8-483f-8b65-db5992eb12c9",
   "metadata": {},
   "outputs": [
    {
     "name": "stdin",
     "output_type": "stream",
     "text": [
      "Enter the number of rows:  6\n"
     ]
    },
    {
     "name": "stdout",
     "output_type": "stream",
     "text": [
      " * \n",
      " *  * \n",
      " *  *  * \n",
      " *  *  *  * \n",
      " *  *  *  *  * \n",
      " *  *  *  *  *  * \n",
      " *  *  *  *  * \n",
      " *  *  *  * \n",
      " *  *  * \n",
      " *  * \n",
      " * \n"
     ]
    }
   ],
   "source": [
    "#patter \n",
    "\n",
    "n = int(input('Enter the number of rows: '))\n",
    "pattern_count = 1\n",
    "while pattern_count < n:\n",
    "    j = 1\n",
    "    while j <= pattern_count:\n",
    "        print(' * ', end = '')\n",
    "        j += 1\n",
    "    print('')\n",
    "    pattern_count += 1\n",
    "    \n",
    "pattern_count = 1\n",
    "while pattern_count < n + 1:\n",
    "    j = n\n",
    "    while j >= pattern_count:\n",
    "        print(' * ', end = '')\n",
    "        j -= 1\n",
    "    print('')\n",
    "    pattern_count += 1"
   ]
  },
  {
   "cell_type": "markdown",
   "id": "6d8bcb89-ced5-4748-a756-1fd79e54effb",
   "metadata": {},
   "source": [
    "### 7. Reverse a while loop to display number from 10 to 1"
   ]
  },
  {
   "cell_type": "code",
   "execution_count": 8,
   "id": "f52a3bcb-4d1f-4f71-bc39-9fa430670d8a",
   "metadata": {},
   "outputs": [
    {
     "name": "stdout",
     "output_type": "stream",
     "text": [
      "10\n",
      "9\n",
      "8\n",
      "7\n",
      "6\n",
      "5\n",
      "4\n",
      "3\n",
      "2\n",
      "1\n"
     ]
    }
   ],
   "source": [
    "rev = 10\n",
    "while rev > 0:\n",
    "    print(rev)\n",
    "    rev -= 1"
   ]
  }
 ],
 "metadata": {
  "kernelspec": {
   "display_name": "Python 3 (ipykernel)",
   "language": "python",
   "name": "python3"
  },
  "language_info": {
   "codemirror_mode": {
    "name": "ipython",
    "version": 3
   },
   "file_extension": ".py",
   "mimetype": "text/x-python",
   "name": "python",
   "nbconvert_exporter": "python",
   "pygments_lexer": "ipython3",
   "version": "3.10.8"
  }
 },
 "nbformat": 4,
 "nbformat_minor": 5
}
