{
 "cells": [
  {
   "cell_type": "markdown",
   "id": "a78ca31a-7dc4-49ac-958b-1c1eacdaa001",
   "metadata": {},
   "source": [
    "## Q1. What is an Exception in python? Write the difference between Exceptions and Syntax Errors."
   ]
  },
  {
   "cell_type": "code",
   "execution_count": null,
   "id": "50a5c664-f073-4e06-ba12-c68e702754ae",
   "metadata": {},
   "outputs": [],
   "source": [
    "Ans - Errors are two types in python- Exception and syntax error.\n",
    "Error occurs when there is a problem in program while exception are raised when some internal error occurs.\n",
    "Difference between Exception and Syntax error:\n",
    "Syntax Error occurs when there is some syntactic error in the code which leads to termination of the problem.\n",
    "Exception occurs when the code is syntactically correct but it results in error. It does not stop the execution of the program but changes the normal\n"
   ]
  },
  {
   "cell_type": "markdown",
   "id": "bfa5ea9b-3804-493c-a635-f38b77a63b1e",
   "metadata": {},
   "source": [
    "## Q2. What happens when an exception is not handled? Explain with an example."
   ]
  },
  {
   "cell_type": "code",
   "execution_count": 1,
   "id": "e7ea8c57-b305-44a7-877e-441685fc723e",
   "metadata": {},
   "outputs": [
    {
     "ename": "ZeroDivisionError",
     "evalue": "division by zero",
     "output_type": "error",
     "traceback": [
      "\u001b[0;31m---------------------------------------------------------------------------\u001b[0m",
      "\u001b[0;31mZeroDivisionError\u001b[0m                         Traceback (most recent call last)",
      "Cell \u001b[0;32mIn[1], line 5\u001b[0m\n\u001b[1;32m      1\u001b[0m \u001b[38;5;124;03m'''When exception is not handled it leads to abrupt termination of the program.\u001b[39;00m\n\u001b[1;32m      2\u001b[0m \u001b[38;5;124;03mwhen it occurs, python interpreter stops the current process and passes it to the calling process until it is handled.\u001b[39;00m\n\u001b[1;32m      3\u001b[0m \u001b[38;5;124;03mIf not handled the program will crash.'''\u001b[39;00m\n\u001b[1;32m      4\u001b[0m age\u001b[38;5;241m=\u001b[39m\u001b[38;5;241m100\u001b[39m\n\u001b[0;32m----> 5\u001b[0m \u001b[38;5;28mprint\u001b[39m(\u001b[43mage\u001b[49m\u001b[38;5;241;43m/\u001b[39;49m\u001b[38;5;241;43m0\u001b[39;49m)\n",
      "\u001b[0;31mZeroDivisionError\u001b[0m: division by zero"
     ]
    }
   ],
   "source": [
    "'''When exception is not handled it leads to abrupt termination of the program.\n",
    "when it occurs, python interpreter stops the current process and passes it to the calling process until it is handled.\n",
    "If not handled the program will crash.'''\n",
    "age=100\n",
    "print(age/0)"
   ]
  },
  {
   "cell_type": "markdown",
   "id": "d15a2838-244b-4cd9-892f-e48471b54c0c",
   "metadata": {},
   "source": [
    "## Q3. Which Python statements are used to catch and handle exceptions? Explain with an example."
   ]
  },
  {
   "cell_type": "code",
   "execution_count": 2,
   "id": "631ef391-a1b5-4aa6-a188-b65644779023",
   "metadata": {},
   "outputs": [
    {
     "name": "stdout",
     "output_type": "stream",
     "text": [
      "Exception occurs: division by zero\n"
     ]
    }
   ],
   "source": [
    "'''try and except statements are used to catch and handle exceptions in python'''\n",
    "age=100\n",
    "try:\n",
    "  print(age/0)\n",
    "except Exception as e:\n",
    "  print(\"Exception occurs:\",e)"
   ]
  },
  {
   "cell_type": "markdown",
   "id": "a5e014b8-929b-4878-95ac-360c904c6a9b",
   "metadata": {},
   "source": [
    "## Q4. Explain with an example:\n",
    "    try and else\n",
    "    finally\n",
    "    raise"
   ]
  },
  {
   "cell_type": "code",
   "execution_count": 3,
   "id": "b1d10e4f-e3e5-4541-8a43-f890da51ebc8",
   "metadata": {},
   "outputs": [
    {
     "name": "stdout",
     "output_type": "stream",
     "text": [
      "10.0\n",
      "Program executed successfully without any exception\n"
     ]
    }
   ],
   "source": [
    "# (a) try and else:\n",
    "age=100\n",
    "try:\n",
    "  print(age/10)\n",
    "except Exception as e:\n",
    "  print(\"Exception occurs:\",e)\n",
    "else:\n",
    "  print(\"Program executed successfully without any exception\")"
   ]
  },
  {
   "cell_type": "code",
   "execution_count": 4,
   "id": "4c1df6b3-3ea5-4c2b-acca-2f818a48ec05",
   "metadata": {},
   "outputs": [
    {
     "name": "stdout",
     "output_type": "stream",
     "text": [
      "program executed without exception\n",
      "File is closed in the finally block\n"
     ]
    }
   ],
   "source": [
    "# (b) finally:\n",
    "#finally is always executed irrespective of whether the exception occurs or not.\n",
    "try:\n",
    "  f=open(\"text1.txt\",\"w\")\n",
    "  f.write(\"Im in text1 file\")\n",
    "except Exception as e:\n",
    "  print(\"Exception occured:\",e)\n",
    "else:\n",
    "  print(\"program executed without exception\")\n",
    "finally:\n",
    "  f.close()\n",
    "  print(\"File is closed in the finally block\")"
   ]
  },
  {
   "cell_type": "code",
   "execution_count": 6,
   "id": "ba1339df-c0c8-4bcc-81bd-5cc9e231007a",
   "metadata": {},
   "outputs": [
    {
     "name": "stdin",
     "output_type": "stream",
     "text": [
      "Enter the amount for withdrawal:  4999\n"
     ]
    },
    {
     "name": "stdout",
     "output_type": "stream",
     "text": [
      "available balance after withdrawal:  1\n"
     ]
    }
   ],
   "source": [
    "# (c) raise:\n",
    "class amountexception(Exception):\n",
    "  def __init__(self,msg):\n",
    "    self.msg=msg\n",
    "def amount_exception(amt,balance):\n",
    "  if(balance>=amt):\n",
    "    balance-=amt\n",
    "    return balance\n",
    "  else:\n",
    "    raise amountexception(\"Balance is very low for withdrawal.\")\n",
    "balance=5000\n",
    "amt=int(input(\"Enter the amount for withdrawal: \"))\n",
    "try:\n",
    "  bal=amount_exception(amt,balance)\n",
    "  print(\"available balance after withdrawal: \",bal)\n",
    "except amountexception as e:\n",
    "  print(e)"
   ]
  },
  {
   "cell_type": "markdown",
   "id": "96572b24-156b-4f5e-8a2c-006b539baa01",
   "metadata": {},
   "source": [
    "## Q5. What are Custom Exceptions in python? Why do we need Custom Exceptions? Explain with an example."
   ]
  },
  {
   "cell_type": "code",
   "execution_count": 7,
   "id": "5d834347-e499-47e4-81c5-1a47e466c252",
   "metadata": {},
   "outputs": [
    {
     "name": "stdin",
     "output_type": "stream",
     "text": [
      "Enter the amount for withdrawal:  6500\n"
     ]
    },
    {
     "name": "stdout",
     "output_type": "stream",
     "text": [
      "Balance is very low for withdrawal.\n"
     ]
    }
   ],
   "source": [
    "'''Other than standard exceptions like ZeroDivisionError, IndexError,IOError..etc, we can also define other type of exception know as Custom exception.\n",
    "Custom exceptions are User-Defined exceptions that are derived from the Exception class.'''\n",
    "class amountexception(Exception):\n",
    "  def __init__(self,msg):\n",
    "    self.msg=msg\n",
    "def amount_exception(amt,balance):\n",
    "  if(balance>=amt):\n",
    "    balance-=amt\n",
    "    return balance\n",
    "  else:\n",
    "    raise amountexception(\"Balance is very low for withdrawal.\")\n",
    "balance=5000\n",
    "amt=int(input(\"Enter the amount for withdrawal: \"))\n",
    "try:\n",
    "  bal=amount_exception(amt,balance)\n",
    "  print(\"available balance after withdrawal: \",bal)\n",
    "except amountexception as e:\n",
    "  print(e)"
   ]
  },
  {
   "cell_type": "markdown",
   "id": "85377a2f-1f78-4990-8268-9ee7c7a4bcae",
   "metadata": {},
   "source": [
    "## Q6. Create a custom exception class. Use this class to handle an exception."
   ]
  },
  {
   "cell_type": "code",
   "execution_count": 10,
   "id": "2eb0f092-931e-40de-86a1-35989f140bbd",
   "metadata": {},
   "outputs": [
    {
     "name": "stdin",
     "output_type": "stream",
     "text": [
      "Enter your age:  100\n"
     ]
    },
    {
     "name": "stdout",
     "output_type": "stream",
     "text": [
      "Your age is valid.\n"
     ]
    }
   ],
   "source": [
    "class ageexception(Exception):\n",
    "  def __init__(self,msg):\n",
    "    self.msg=msg\n",
    "def age_exception(age):\n",
    "  if((age>100) or (age<=0)):\n",
    "    raise ageexception(\"Please enter the valid age.\")\n",
    "  else:\n",
    "    print(\"Your age is valid.\")\n",
    "try:\n",
    "  age=int(input(\"Enter your age: \"))\n",
    "  age_exception(age)\n",
    "except ageexception as e:\n",
    "  print(e)"
   ]
  }
 ],
 "metadata": {
  "kernelspec": {
   "display_name": "Python 3 (ipykernel)",
   "language": "python",
   "name": "python3"
  },
  "language_info": {
   "codemirror_mode": {
    "name": "ipython",
    "version": 3
   },
   "file_extension": ".py",
   "mimetype": "text/x-python",
   "name": "python",
   "nbconvert_exporter": "python",
   "pygments_lexer": "ipython3",
   "version": "3.10.8"
  }
 },
 "nbformat": 4,
 "nbformat_minor": 5
}
