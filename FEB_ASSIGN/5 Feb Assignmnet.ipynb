{
 "cells": [
  {
   "cell_type": "markdown",
   "id": "87b642a1-a202-4558-82d0-655d290ffb29",
   "metadata": {},
   "source": [
    "### Q1. Explain Class and Object with respect to Object-Oriented Programming. Give a suitable example."
   ]
  },
  {
   "cell_type": "code",
   "execution_count": null,
   "id": "85bc1942-a785-42c6-9e8f-8f20534cb4c8",
   "metadata": {},
   "outputs": [],
   "source": [
    "Ans -\n",
    "1, Class\n",
    "Class is a user-defined datatype that contain its own data members and member functions. The member functions and data members can be accessed with the help of objects. It is the primary concept of object-oriented programming. A class is used to organize information or data so a programmer can reuse the elements in multiple instances.\n",
    "\n",
    "For example, if a programmer wants to make three instances of Dogs, Golden Retriever, poodle, and Maltese dog. The class dog would store similar information that is unique to each dog (although they are different species, they will have similar property attributes) and appropriate information will be associated with the class Dog.\n",
    "\n",
    "Syntax of class –\n",
    "\n",
    "class <className>\n",
    "\n",
    " {\n",
    "\n",
    " public:\n",
    "\n",
    "     (public data member and member functions)\n",
    "\n",
    " private:\n",
    "\n",
    "     (private data members and member functions)\n",
    "\n",
    " \n",
    "\n",
    " };\n",
    "    \n",
    "\n",
    "2. Object\n",
    "    \n",
    "An object is an instance of a class. As already mentioned above, all the data members and member functions of the class can be accessed with the help of objects.\n",
    "\n",
    "An object in OOP is a component which consists of properties to make a particular data useful. For example, let’s consider a class Student. We can access various student details using some common property attributes like student name, roll number, etc.\n",
    "\n",
    "An object consists of –\n",
    "\n",
    "Name – name of the variable\n",
    "Member data - data that describes the object\n",
    "Member functions - functions related to the object that also describes the behavior\n",
    "Example –\n",
    "\n",
    "class myClass {       // Declaring a class\n",
    "  public:             // Access specifier\n",
    "    int num;        \n",
    "    string String;  \n",
    "};\n",
    "\n",
    "int main() {\n",
    "  myClass Object;  // Creating an object of myClass\n",
    "\n",
    "  // Access attributes and set values\n",
    "  Object.num = 17; \n",
    "  Object.String = “Hello World\";\n",
    "\n",
    "  // Print\n",
    "  cout << Object.num << \"\\n\";\n",
    "  cout << Object.String;\n",
    "  return 0;\n",
    "}"
   ]
  },
  {
   "cell_type": "markdown",
   "id": "942e5563-0788-4a4c-bc9d-3a44bd15f830",
   "metadata": {},
   "source": [
    "### Q2. Name the four pillars of OOPs."
   ]
  },
  {
   "cell_type": "code",
   "execution_count": null,
   "id": "f3a4188d-8b3d-46b6-9c76-6e5cf7ccd28d",
   "metadata": {},
   "outputs": [],
   "source": [
    "Ans - The Four Pillars of Object Oriented Programming\n",
    "\n",
    "    Abstraction.\n",
    "    Encapsulation.\n",
    "    Inheritance.\n",
    "    Polymorphism."
   ]
  },
  {
   "cell_type": "markdown",
   "id": "092ba08c-7d2e-48f9-8bb1-3b5de8cc9811",
   "metadata": {},
   "source": [
    "### Q3. Explain why the __init__() function is used. Give a suitable example."
   ]
  },
  {
   "cell_type": "code",
   "execution_count": 6,
   "id": "48e9fdcc-cdc9-4231-ba9b-dbbec395eff3",
   "metadata": {},
   "outputs": [
    {
     "name": "stdout",
     "output_type": "stream",
     "text": [
      "Constructor method has been called.\n"
     ]
    }
   ],
   "source": [
    " # Ans - A constructor of a class in Python is defined using the __init__ method. The python __init__ is a reserved method in Python that behaves like any other member function of the class, except the statements written under its definition are used to initialize the data members of a class in Python, \n",
    " #     i.e. it basically contains assignment statements. This method is automatically called at the time of class instantiation or object creation. \n",
    "\n",
    "# In case of inheritance, the sub class inherits the __init__ method of the base class along with the other accessible class members. \n",
    "# Hence, the object of the base class automatically calls the python __init__ constructor of the base class at the time of its creation since it is called by the sub class __init__ constructor. \n",
    "\n",
    "\n",
    "# Example-1: Use of a Constructor Without Any Argument\n",
    "    \n",
    "#Declare a class with parameterless constructor\n",
    "\n",
    "class TestClass:\n",
    "\n",
    "#Declare constructor method\n",
    "\n",
    "    def __init__(self):\n",
    "\n",
    "#Print a simple message\n",
    "\n",
    "      print('Constructor method has been called.')\n",
    "\n",
    "#Create object of the class\n",
    "\n",
    "object = TestClass()"
   ]
  },
  {
   "cell_type": "markdown",
   "id": "e1da7047-bbfe-478d-976f-0c1905f8685f",
   "metadata": {},
   "source": [
    "### Q4. Why self is used in OOPs?"
   ]
  },
  {
   "cell_type": "code",
   "execution_count": null,
   "id": "c07eebcc-e04d-4c17-970e-acc96fac9500",
   "metadata": {},
   "outputs": [],
   "source": [
    "Ans - self represents the instance of the class. By using the “self”  we can access the attributes and methods of the class in python. It binds the attributes with the given arguments.\n",
    "\n",
    "The reason you need to use self. is because Python does not use the @ syntax to refer to instance attributes. Python decided to do methods in a way that makes the instance to which the method belongs be passed automatically, \n",
    "but not received automatically: the first parameter of methods is the instance the method is called on."
   ]
  },
  {
   "cell_type": "markdown",
   "id": "d8ece0c6-23c2-41fb-be51-a1398409f721",
   "metadata": {},
   "source": [
    "### Q5. What is inheritance? Give an example for each type of inheritance."
   ]
  },
  {
   "cell_type": "code",
   "execution_count": null,
   "id": "82397619-a1ff-4889-b194-70ee3eb2f07a",
   "metadata": {},
   "outputs": [],
   "source": [
    "Ans - nheritance is a mechanism of acquiring the features and behaviors of a class by another class. The class whose members are inherited is called the base class, and the class that inherits those members is called the derived class.\n",
    "Inheritance implements the IS-A relationship.\n",
    "\n",
    "Inheritance is one of the core aspects of the fundamental called Object-Oriented Programming (OOPs) and if we need to describe then inheritance is that it provides the way of achieving code re-usability were writing the same code the multiple times, again and again, \n",
    "rather we can use inherit a version of the given properties of one class into the other by extending it.\n",
    "\n",
    "Different Types of Inheritance\n",
    "\n",
    "OOPs support the six different types of inheritance as given below :\n",
    "\n",
    "1.Single inheritance\n",
    "\n",
    "2.Multi-level inheritance\n",
    "\n",
    "3.Multiple inheritance\n",
    "\n",
    "4.Multipath inheritance\n",
    "\n",
    "5.Hierarchical Inheritance\n",
    "\n",
    "6.Hybrid Inheritance"
   ]
  },
  {
   "cell_type": "code",
   "execution_count": null,
   "id": "6f677f92-dd7f-45b1-8cdc-76f137828a1b",
   "metadata": {},
   "outputs": [],
   "source": [
    "Single Inheritance \n",
    "\n",
    "Single inheritance\n",
    "In this inheritance, a derived class is created from a single base class.\n",
    "\n",
    "In the given example, Class A is the parent class and Class B is the child class since Class B inherits the features and behavior of the parent class A.\n",
    "\n",
    "The syntax for Single Inheritance\n",
    "//Base Class\n",
    "class A \n",
    "{\n",
    " public void fooA()\n",
    " {\n",
    " //TO DO:\n",
    " }\n",
    "}\n",
    "\n",
    "//Derived Class\n",
    "class B : A\n",
    "{\n",
    " public void fooB()\n",
    " {\n",
    " //TO DO:\n",
    " }\n",
    "}"
   ]
  },
  {
   "cell_type": "code",
   "execution_count": null,
   "id": "54d53901-ee05-4b3d-8377-b473215d0926",
   "metadata": {},
   "outputs": [],
   "source": [
    "Multi-level inheritance\n",
    "\n",
    "In this inheritance, a derived class is created from another derived class.\n",
    "\n",
    "In the given example, class c inherits the properties and behavior of class B and class B inherits the properties and behavior of class B. So, here A is the parent class of B and class B is the parent class of C. So, here class C implicitly inherits the properties and behavior of class A along with Class B i.e there is a multilevel of inheritance.\n",
    "\n",
    "Multi-level inheritance\n",
    "\n",
    "The syntax for Multi-level Inheritance\n",
    "\n",
    "//Base Class\n",
    "class A \n",
    "{\n",
    " public void fooA()\n",
    " {\n",
    " //TO DO:\n",
    " }\n",
    "}\n",
    "\n",
    "//Derived Class\n",
    "class B : A\n",
    "{\n",
    " public void fooB()\n",
    " {\n",
    " //TO DO:\n",
    " }\n",
    "}\n",
    "\n",
    "//Derived Class\n",
    "class C : B\n",
    "{\n",
    " public void fooC()\n",
    " {\n",
    " //TO DO:\n",
    " }\n",
    "}\n"
   ]
  },
  {
   "cell_type": "code",
   "execution_count": null,
   "id": "e6fa9c44-5042-4ef4-a635-5cc697fb194e",
   "metadata": {},
   "outputs": [],
   "source": [
    "Multiple inheritance\n",
    "\n",
    "In this inheritance, a derived class is created from more than one base class. This inheritance is not supported by .NET Languages like C#, F#, etc., and Java Language.\n",
    "\n",
    "In the given example, class c inherits the properties and behavior of class B and class A at the same level. So, here A and Class B both are the parent classes for Class C.\n",
    "\n",
    "Multiple inheritance\n",
    "\n",
    "The syntax for Multiple Inheritance\n",
    "//Base Class\n",
    "class A \n",
    "{\n",
    " public void fooA()\n",
    " {\n",
    " //TO DO:\n",
    " }\n",
    "}\n",
    "\n",
    "//Base Class\n",
    "class B\n",
    "{\n",
    " public void fooB()\n",
    " {\n",
    " //TO DO:\n",
    " }\n",
    "}\n",
    "\n",
    "//Derived Class\n",
    "class C : A, B\n",
    "{\n",
    " public void fooC()\n",
    " {\n",
    " //TO DO:\n",
    " }\n",
    "}"
   ]
  }
 ],
 "metadata": {
  "kernelspec": {
   "display_name": "Python 3 (ipykernel)",
   "language": "python",
   "name": "python3"
  },
  "language_info": {
   "codemirror_mode": {
    "name": "ipython",
    "version": 3
   },
   "file_extension": ".py",
   "mimetype": "text/x-python",
   "name": "python",
   "nbconvert_exporter": "python",
   "pygments_lexer": "ipython3",
   "version": "3.10.8"
  }
 },
 "nbformat": 4,
 "nbformat_minor": 5
}
