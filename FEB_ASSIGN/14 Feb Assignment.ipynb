{
 "cells": [
  {
   "cell_type": "markdown",
   "id": "8342e37d-968a-4239-951d-b626a55c748f",
   "metadata": {},
   "source": [
    "# Q1. what is multithreading in python? why is it used? Name the module used to handle threads in python"
   ]
  },
  {
   "cell_type": "code",
   "execution_count": null,
   "id": "1eb05bab-97a2-451b-933d-7b28d7319fc5",
   "metadata": {},
   "outputs": [],
   "source": [
    "Thread is a sub process/light weight process within an process. Multiple thread exists within a process. Multithreading is a defined as the ability of the processor to exectute multiple threads simultaneously. Each thread contains its own register set and local variables. All threads of the program share the global variables and the code.\n",
    "\n",
    "MultiThreading allows the concurrent execution of two or more parts of the program for maximum utilization of CPU.\n",
    "\n",
    "Thread module and Threading module are used to handle threads in python."
   ]
  },
  {
   "cell_type": "markdown",
   "id": "49858baa-a28f-4b55-93fe-c87d7ca36196",
   "metadata": {},
   "source": [
    "# Q2. Why threading module used? Write the use of the following functions\n",
    " 1. activeCount()\n",
    " 2. currentThread()\n",
    " 3. enumerate()"
   ]
  },
  {
   "cell_type": "code",
   "execution_count": null,
   "id": "3499193b-7fb7-412d-b311-39f962d87057",
   "metadata": {},
   "outputs": [],
   "source": [
    "Threading module is used to expose all the methods of the thread and provides some addition methods:\n",
    "    \n",
    "(i) threading.activeCount()-Returns the number of thread objects that are active \n",
    "\n",
    "(ii) threading.currentThread()-Returns the current thread object in the caller's thread control. \n",
    "\n",
    "(iii) threading.enumerate()-Returns a list of all thread objects that are currently active."
   ]
  },
  {
   "cell_type": "code",
   "execution_count": 2,
   "id": "2a5bbfd5-f3d6-42cd-9622-0d5018909a40",
   "metadata": {},
   "outputs": [
    {
     "name": "stdout",
     "output_type": "stream",
     "text": [
      "Im from thread 1 and value of i is 10\n",
      "Im from thread 2 and value of i is 4\n",
      "Number of active threads : 10\n",
      "Current thread is : <_MainThread(MainThread, started 140429543372608)>\n",
      "List of threads : [<_MainThread(MainThread, started 140429543372608)>, <Thread(IOPub, started daemon 140429472843328)>, <Heartbeat(Heartbeat, started daemon 140429391558208)>, <Thread(Thread-3 (_watch_pipe_fd), started daemon 140429366380096)>, <Thread(Thread-4 (_watch_pipe_fd), started daemon 140429357987392)>, <ControlThread(Control, started daemon 140429349594688)>, <HistorySavingThread(IPythonHistorySavingThread, started 140429341201984)>, <ParentPollerUnix(Thread-2, started daemon 140428921796160)>, <Thread(Thread-5 (thread1), started 140428913403456)>, <Thread(Thread-6 (thread2), started 140428905010752)>]\n"
     ]
    }
   ],
   "source": [
    "import threading,time\n",
    "def thread1(i):\n",
    "    print(f\"Im from thread 1 and value of i is {i}\")\n",
    "    time.sleep(3)\n",
    "def thread2(i):\n",
    "    print(f\"Im from thread 2 and value of i is {i}\")\n",
    "    time.sleep(3)\n",
    "if __name__==\"__main__\":\n",
    "    t1=threading.Thread(target=thread1,args=(10,))\n",
    "    t2=threading.Thread(target=thread2,args=(4,))\n",
    "    t1.start()\n",
    "    t2.start()\n",
    "    print(\"Number of active threads :\",threading.active_count())\n",
    "    print(\"Current thread is :\",threading.current_thread())\n",
    "    print(\"List of threads :\",threading.enumerate())\n",
    "    t1.join\n",
    "    t2.join"
   ]
  },
  {
   "cell_type": "markdown",
   "id": "8f81f8a7-ee14-4b7a-8a23-13e65071e330",
   "metadata": {},
   "source": [
    "# Q3. Explain the following functions\n",
    " 1. run()\n",
    " 2. start()\n",
    " 3. join()\n",
    " 4. isAlive()"
   ]
  },
  {
   "cell_type": "code",
   "execution_count": null,
   "id": "b399a50d-ca68-4f16-bd83-187bd1e0c643",
   "metadata": {},
   "outputs": [],
   "source": [
    "run()-Defines the entry point for a thread. \n",
    "\n",
    "start()-Starts a thread by calling the run method. \n",
    "\n",
    "join(time)-waits for the thread ton terminate. \n",
    "\n",
    "isAlive()-checks whether the thread is executing or not."
   ]
  },
  {
   "cell_type": "code",
   "execution_count": 3,
   "id": "656c6ab8-8932-49c2-a7bc-ef6972bda735",
   "metadata": {},
   "outputs": [
    {
     "name": "stdout",
     "output_type": "stream",
     "text": [
      "run() is called by threading.Thread.start()\n",
      "Status of the thread : False\n"
     ]
    }
   ],
   "source": [
    "class thread(threading.Thread):\n",
    "    def run(self):\n",
    "        print(\"run() is called by threading.Thread.start()\")\n",
    "if __name__==\"__main__\":\n",
    "    thread1=thread()\n",
    "    thread1.start()\n",
    "    thread1.join()\n",
    "    print(f\"Status of the thread : {thread1.is_alive()}\")"
   ]
  },
  {
   "cell_type": "markdown",
   "id": "f97029c7-ea25-4fc6-a2ec-de5a6b91393b",
   "metadata": {},
   "source": [
    "# Q4. Write a python program to create two threads. Thread one must print the list of squares and thread two must print the list of cubes"
   ]
  },
  {
   "cell_type": "code",
   "execution_count": 4,
   "id": "f41c90fe-d563-4b63-ae6c-20a04195487a",
   "metadata": {},
   "outputs": [
    {
     "name": "stdout",
     "output_type": "stream",
     "text": [
      "Squares of the list: \n",
      "1\n",
      "4\n",
      "9\n",
      "16\n",
      "25\n",
      "cubes of the list: \n",
      "1\n",
      "8\n",
      "27\n",
      "64\n",
      "125\n"
     ]
    }
   ],
   "source": [
    "def square(num):\n",
    "   print(num*num)\n",
    "def cube(num):\n",
    "    print(num*num*num)\n",
    "if __name__==\"__main__\":\n",
    "    thread1=[threading.Thread(target=square,args=(i,)) for i in [1,2,3,4,5]]\n",
    "    thread2=[threading.Thread(target=cube,args=(i,)) for i in [1,2,3,4,5]]\n",
    "    print(\"Squares of the list: \")\n",
    "    for t1 in thread1:\n",
    "     t1.start()\n",
    "    print(\"cubes of the list: \")\n",
    "    for t2 in thread2:\n",
    "     t2.start()"
   ]
  },
  {
   "cell_type": "markdown",
   "id": "f515f275-414d-4ead-ab6b-98f4b63c7be8",
   "metadata": {},
   "source": [
    "# Q5. State advantages and disadvantages of multithreading"
   ]
  },
  {
   "cell_type": "code",
   "execution_count": null,
   "id": "87c3b75e-9770-4254-bc6b-cd3d27bd45a2",
   "metadata": {},
   "outputs": [],
   "source": [
    "Advantages:\n",
    "(i) Threads are independent of each other. \n",
    "(ii) Resources can be used efficiently since threads executes parallely. \n",
    "(iii) Enhances the performance of multi-processor machines.\n",
    "\n",
    "Disadvantages:\n",
    "(i) Complexity increases with increase in number of threads. \n",
    "(ii) Necessary to maintain synchronisation while using shared resources among multiple threads. \n",
    "(iii) Process of constructing/synchronising the threads is cpu/memory intensive"
   ]
  },
  {
   "cell_type": "markdown",
   "id": "4565f42b-68b8-41df-bec7-ff926977eed3",
   "metadata": {},
   "source": [
    "# Q6. Explain deadlocks and race conditions."
   ]
  },
  {
   "cell_type": "code",
   "execution_count": null,
   "id": "121c4947-460f-449b-86db-b6016ce38eb1",
   "metadata": {},
   "outputs": [],
   "source": [
    "Deadlock:\n",
    "Deadlock is a condition where a thread or threads waits for the condition that never occurs. Deadlock inclues:\n",
    "    (i) A thread that waits on itself. \n",
    "    (ii) Threads that wait for each other (A waits for B, B waits for A) \n",
    "    (iii) Thread that fails to release the resources (mutex lock,semaphore,..etc) \n",
    "    (iv) Threads that acquires mutex locks in differnt modes (ie: fails to perform lock ordering)\n",
    "\n",
    "Race condition:\n",
    "Race condition occurs when two or more threads can access shared variable and try to change it at the same time. Due to this,the value of variable may be unpredicted and vary depending on thet timings of context switches of the process."
   ]
  }
 ],
 "metadata": {
  "kernelspec": {
   "display_name": "Python 3 (ipykernel)",
   "language": "python",
   "name": "python3"
  },
  "language_info": {
   "codemirror_mode": {
    "name": "ipython",
    "version": 3
   },
   "file_extension": ".py",
   "mimetype": "text/x-python",
   "name": "python",
   "nbconvert_exporter": "python",
   "pygments_lexer": "ipython3",
   "version": "3.10.8"
  }
 },
 "nbformat": 4,
 "nbformat_minor": 5
}
