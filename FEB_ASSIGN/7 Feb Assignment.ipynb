{
 "cells": [
  {
   "cell_type": "markdown",
   "id": "bed175d1-02d5-49dc-b909-ce0ae8f1003a",
   "metadata": {},
   "source": [
    "### Q1. You are writing code for a company. The requirement of the company is that you create a python function that will check whether the password entered by the user is correct or not. The function should take the password as input and return the string “Valid Password” if the entered password follows the below-given password guidelines else it should return “Invalid Password”.\n",
    "Note: 1. The Password should contain at least two uppercase letters and at least two lowercase letters.\n",
    "2. The Password should contain at least a number and three special characters.\n",
    "3. The length of the password should be 10 characters long."
   ]
  },
  {
   "cell_type": "code",
   "execution_count": 2,
   "id": "b837f2a6-9aad-4bac-b5a7-0819cc8fdc2c",
   "metadata": {},
   "outputs": [
    {
     "name": "stdin",
     "output_type": "stream",
     "text": [
      "Enter the password:  HEllo@#$55\n"
     ]
    },
    {
     "name": "stdout",
     "output_type": "stream",
     "text": [
      "Valid password\n"
     ]
    }
   ],
   "source": [
    "lower=upper=special=number=0\n",
    "password=input(\"Enter the password: \")\n",
    "if(len(password)==10):\n",
    "  for i in password:\n",
    "     if(i.islower()):lower+=1\n",
    "     elif(i.isupper()):upper+=1\n",
    "     elif(i.isnumeric()):number+=1\n",
    "     else:special+=1\n",
    "  if(lower>=2 and upper>=2 and number>=1 and special==3):print(\"Valid password\")\n",
    "  else:print(\"Invalid password\")\n",
    "else:print(\"Invalid password\")"
   ]
  },
  {
   "cell_type": "code",
   "execution_count": 4,
   "id": "bba3822d-c225-4d4e-aab3-21805cff958b",
   "metadata": {},
   "outputs": [
    {
     "name": "stdin",
     "output_type": "stream",
     "text": [
      "Enter the string:  Data Science by PWskills\n",
      "Enter the letter:  D\n"
     ]
    },
    {
     "name": "stdout",
     "output_type": "stream",
     "text": [
      "Data Science by PWskills starts with the D\n"
     ]
    }
   ],
   "source": [
    "# Q2 (i) B Check if the string starts with a particular letter\n",
    "\n",
    "String=input(\"Enter the string: \")\n",
    "Letter=input(\"Enter the letter: \")\n",
    "value=(True if String[0]==Letter else False)\n",
    "if(value==True): print(f\"{String} starts with the {Letter}\")\n",
    "else: print(f\"{String} does not starts with the {Letter}\")"
   ]
  },
  {
   "cell_type": "code",
   "execution_count": 7,
   "id": "ecf543fd-4c45-44b2-bcc8-a966e0769f86",
   "metadata": {},
   "outputs": [
    {
     "name": "stdin",
     "output_type": "stream",
     "text": [
      "Enter the string:  12345678\n"
     ]
    },
    {
     "name": "stdout",
     "output_type": "stream",
     "text": [
      "The string is numeric\n"
     ]
    }
   ],
   "source": [
    "# Q2 (ii) Check if the string is numeric\n",
    "\n",
    "String=input(\"Enter the string: \")\n",
    "value=(True if(str.isnumeric(String)) else False)\n",
    "if value==True: print(\"The string is numeric\")\n",
    "else: print(\"The string is not numeric\")"
   ]
  },
  {
   "cell_type": "code",
   "execution_count": 8,
   "id": "a4442a46-d54b-44a1-bb38-5e8131e18bcf",
   "metadata": {},
   "outputs": [
    {
     "name": "stdout",
     "output_type": "stream",
     "text": [
      "[('grapes', 1000), ('mango', 99), ('orange', 80)]\n"
     ]
    }
   ],
   "source": [
    "# Q2 (iii) B Sort a list of tuples having fruit names and their quantity. [(\"mango\",99),(\"orange\",80), (\"grapes\", 1000)-\n",
    "\n",
    "list1=[(\"mango\",99),(\"orange\",80),(\"grapes\",1000)]\n",
    "list1.sort(key=lambda list1:list1[0])\n",
    "print(list1)"
   ]
  },
  {
   "cell_type": "code",
   "execution_count": 9,
   "id": "5d512808-545d-4440-8dde-adc709cb144c",
   "metadata": {},
   "outputs": [
    {
     "name": "stdout",
     "output_type": "stream",
     "text": [
      "[1, 4, 9, 16, 25, 36, 49, 64, 81, 100]\n"
     ]
    }
   ],
   "source": [
    "# Q2 (iv) Find the squares of numbers from 1 to 10\n",
    "\n",
    "list1=range(1,11)\n",
    "list2=list(i**2 for i in list1)\n",
    "print(list2)"
   ]
  },
  {
   "cell_type": "code",
   "execution_count": 10,
   "id": "37248e91-3f68-4d81-82e6-956d84367de0",
   "metadata": {},
   "outputs": [
    {
     "name": "stdout",
     "output_type": "stream",
     "text": [
      "[1, 8, 27, 64, 125, 216, 343, 512, 729, 1000]\n"
     ]
    }
   ],
   "source": [
    "# Q2 (v) Cube root of numbers from 1 to 10\n",
    "\n",
    "list1=range(1,11)\n",
    "list2=list(i**3 for i in list1)\n",
    "print(list2)   "
   ]
  },
  {
   "cell_type": "code",
   "execution_count": 12,
   "id": "deabc536-0fe1-4e43-8304-c463db10c2bd",
   "metadata": {},
   "outputs": [
    {
     "name": "stdin",
     "output_type": "stream",
     "text": [
      "Enter the number to check if it is even or not:  88\n"
     ]
    },
    {
     "name": "stdout",
     "output_type": "stream",
     "text": [
      "Even\n"
     ]
    }
   ],
   "source": [
    "# Q2 (vi) Check if the number is even\n",
    "\n",
    "num=int(input(\"Enter the number to check if it is even or not: \"))\n",
    "print(\"Even\" if(num%2==0) else \"Not even\")"
   ]
  },
  {
   "cell_type": "code",
   "execution_count": 14,
   "id": "ae5c1232-5f8c-44c1-a81e-25334e763031",
   "metadata": {},
   "outputs": [
    {
     "name": "stdout",
     "output_type": "stream",
     "text": [
      "[1, 3, 5, 7, 9]\n"
     ]
    }
   ],
   "source": [
    "# Q2 (vii) Filter odd numbers from the list\n",
    "\n",
    "list1=[1,2,3,4,5,6,7,8,9,10]\n",
    "list2=list(filter(lambda x:x%2!=0,list1))\n",
    "print(list2)"
   ]
  },
  {
   "cell_type": "code",
   "execution_count": 15,
   "id": "19107b9c-4629-4d2f-976f-5b8007f4fefb",
   "metadata": {},
   "outputs": [
    {
     "name": "stdout",
     "output_type": "stream",
     "text": [
      "Positive list: [1, 2, 3, 4, 5, 6, 0]\n",
      "Negative list: [-1, -2, -3, -4, -5]\n"
     ]
    }
   ],
   "source": [
    "# Q2 (viii) Sort list of integers into positive and negative integer lists:\n",
    "\n",
    "list1=[1,2,3,4,5,6,-1,-2,-3,-4,-5,0]\n",
    "positive=list(filter(lambda x:x>=0,list1))\n",
    "negative=list(filter(lambda x:x<0,list1))\n",
    "print(f\"Positive list: {positive}\")\n",
    "print(f\"Negative list: {negative}\")"
   ]
  }
 ],
 "metadata": {
  "kernelspec": {
   "display_name": "Python 3 (ipykernel)",
   "language": "python",
   "name": "python3"
  },
  "language_info": {
   "codemirror_mode": {
    "name": "ipython",
    "version": 3
   },
   "file_extension": ".py",
   "mimetype": "text/x-python",
   "name": "python",
   "nbconvert_exporter": "python",
   "pygments_lexer": "ipython3",
   "version": "3.10.8"
  }
 },
 "nbformat": 4,
 "nbformat_minor": 5
}
