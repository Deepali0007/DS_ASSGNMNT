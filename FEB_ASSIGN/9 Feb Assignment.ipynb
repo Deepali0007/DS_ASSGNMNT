{
 "cells": [
  {
   "cell_type": "markdown",
   "id": "11d0898c-eb16-4218-acbf-a036419fea93",
   "metadata": {},
   "source": [
    "### Q1, Create a vehicle class with an init method having instance variables as name_of_vehicle, max_speed and average_of_vehicle."
   ]
  },
  {
   "cell_type": "code",
   "execution_count": 5,
   "id": "e064578a-4029-40b8-b515-f5c09db200ec",
   "metadata": {},
   "outputs": [
    {
     "name": "stdout",
     "output_type": "stream",
     "text": [
      "name_of_vehicle:Maserati,max_speed:250,average_of_vehicle:100\n"
     ]
    }
   ],
   "source": [
    "class vehicle:\n",
    "  def __init__(self,name_of_vehicle,max_speed,average_of_vehicle):\n",
    "    self.name_of_vehicle=name_of_vehicle\n",
    "    self.max_speed=max_speed\n",
    "    self.average_of_vehicle=average_of_vehicle\n",
    "  def show(self):\n",
    "    print(f\"name_of_vehicle:{self.name_of_vehicle},max_speed:{self.max_speed},average_of_vehicle:{self.average_of_vehicle}\")\n",
    "vehicle_obj=vehicle(\"Maserati\",250,100)\n",
    "vehicle_obj.show()"
   ]
  },
  {
   "cell_type": "markdown",
   "id": "0d23b1fd-8e6f-4958-9b46-2b5c931df07b",
   "metadata": {},
   "source": [
    "### Q2. Create a child class car from the vehicle class created in Que 1, which will inherit the vehicle class. Create a method named seating_capacity which takes capacity as an argument and returns the name of the vehicle and its seating capacity."
   ]
  },
  {
   "cell_type": "code",
   "execution_count": 6,
   "id": "053a06b5-1f32-4752-814a-eed06b597de7",
   "metadata": {},
   "outputs": [
    {
     "name": "stdout",
     "output_type": "stream",
     "text": [
      "car name: Maserati\n",
      "car capacity: 4\n"
     ]
    }
   ],
   "source": [
    "class vehicle:\n",
    "  def __init__(self,name_of_vehicle,max_speed,average_of_vehicle):\n",
    "    self.name_of_vehicle=name_of_vehicle\n",
    "    self.max_speed=max_speed\n",
    "    self.average_of_vehicle=average_of_vehicle\n",
    "class car(vehicle):\n",
    "   def seating_capacity(self,capacity):\n",
    "       self.capacity=capacity\n",
    "car_obj=car(\"Maserati\",250,100)\n",
    "car_obj.seating_capacity(4)\n",
    "print(\"car name:\",car_obj.name_of_vehicle)\n",
    "print(\"car capacity:\",car_obj.capacity)"
   ]
  },
  {
   "cell_type": "markdown",
   "id": "7102c7d6-18be-4304-bbc5-163239840d26",
   "metadata": {},
   "source": [
    "### Q3. What is multiple inheritance? Write a python code to demonstrate multiple inheritance."
   ]
  },
  {
   "cell_type": "code",
   "execution_count": 7,
   "id": "13da4d1f-e88d-4b7e-afad-384d9b26daa7",
   "metadata": {},
   "outputs": [
    {
     "name": "stdout",
     "output_type": "stream",
     "text": [
      "This is from class1\n",
      "This is from class2\n",
      "This is from class3\n"
     ]
    }
   ],
   "source": [
    "#Multiple inheritance inherits the properties and behaviour from two parent classes.\n",
    "class class1:\n",
    "  def show1(self):\n",
    "    print(\"This is from class1\")\n",
    "class class2:\n",
    "  def show2(self):\n",
    "    print(\"This is from class2\")\n",
    "class class3(class1,class2):\n",
    "  def show3(self):\n",
    "    print(\"This is from class3\")\n",
    "class3_obj=class3()\n",
    "class3_obj.show1()\n",
    "class3_obj.show2()\n",
    "class3_obj.show3()"
   ]
  },
  {
   "cell_type": "markdown",
   "id": "3ab7ddbe-1aaf-44f0-9881-2853262215f8",
   "metadata": {},
   "source": [
    "### Q4. What are getter and setter in python? Create a class and create a getter and a setter method in this class."
   ]
  },
  {
   "cell_type": "code",
   "execution_count": 9,
   "id": "ce5a2a21-83fd-45e5-a3a7-3a24c02207db",
   "metadata": {},
   "outputs": [
    {
     "name": "stdout",
     "output_type": "stream",
     "text": [
      "Student age:25\n"
     ]
    }
   ],
   "source": [
    "'''Getters and Setters are used in Data Encapsulation.\n",
    "It is mainly used to prevent the direct access to the class fields.'''\n",
    "class student:\n",
    "  def __init__(self,age=0):\n",
    "    self._age=age\n",
    "  def get_age(self):\n",
    "    return self._age\n",
    "  def set_age(self,age):\n",
    "    self._age=age\n",
    "student_obj=student()\n",
    "student_obj.set_age(25)\n",
    "print(f\"Student age:{student_obj.get_age()}\")"
   ]
  },
  {
   "cell_type": "markdown",
   "id": "43d5a858-660c-480e-ba63-286e9fec8e98",
   "metadata": {},
   "source": [
    "### Q5.What is method overriding in python? Write a python code to demonstrate method overriding."
   ]
  },
  {
   "cell_type": "code",
   "execution_count": 10,
   "id": "236daddc-5651-49bb-90b9-4835ac4aaa77",
   "metadata": {},
   "outputs": [
    {
     "name": "stdout",
     "output_type": "stream",
     "text": [
      "This is from parent class\n",
      "This is from child class\n"
     ]
    }
   ],
   "source": [
    "'''Method overiding provides the specific implementation of a method in child class that is already defined in one of its parent class.\n",
    "when a method is said to have overridden, the child class has the method with same name,same parameters and same return type as of the method in parent class.'''\n",
    "class parent:\n",
    "  def show(self):\n",
    "    print(\"This is from parent class\")\n",
    "class child(parent):\n",
    "  def show(self):\n",
    "    print(\"This is from child class\")\n",
    "parent_obj=parent()\n",
    "child_obj=child()\n",
    "parent_obj.show()\n",
    "child_obj.show()"
   ]
  }
 ],
 "metadata": {
  "kernelspec": {
   "display_name": "Python 3 (ipykernel)",
   "language": "python",
   "name": "python3"
  },
  "language_info": {
   "codemirror_mode": {
    "name": "ipython",
    "version": 3
   },
   "file_extension": ".py",
   "mimetype": "text/x-python",
   "name": "python",
   "nbconvert_exporter": "python",
   "pygments_lexer": "ipython3",
   "version": "3.10.8"
  }
 },
 "nbformat": 4,
 "nbformat_minor": 5
}
