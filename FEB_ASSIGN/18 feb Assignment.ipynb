{
 "cells": [
  {
   "cell_type": "markdown",
   "id": "3066dcf7-1c60-4af1-9455-d4397c8bebea",
   "metadata": {},
   "source": [
    "## Q1. What is an API? Give an example, where an API is used in real life."
   ]
  },
  {
   "cell_type": "code",
   "execution_count": null,
   "id": "11621450-85e0-4fc9-90bf-6b8ce0af1cb7",
   "metadata": {},
   "outputs": [],
   "source": [
    "API stands for Appliaction Programming Interface. It is a software interface that allows two homogenous or heterogenous appliactions to interact with ecah other.\n",
    "API is tha collection of software functions and procedure.\n",
    "It acts as an intermediate layer that process data transfer between different applications.\n",
    "Examples:\n",
    "(i) Universal logins - Allows user to login to websites by useing facebook,twitter and email\n",
    "(ii) Travel booking apps\n",
    "(iii) Payment via gpay, phonepe"
   ]
  },
  {
   "cell_type": "markdown",
   "id": "f5102046-fa90-43b9-b49c-01e10855be71",
   "metadata": {},
   "source": [
    "## Q2. Give advantages and disadvantages of using API."
   ]
  },
  {
   "cell_type": "code",
   "execution_count": null,
   "id": "16581366-4caa-42f1-84c3-f9ac8c5c7a0a",
   "metadata": {},
   "outputs": [],
   "source": [
    "Advantages and Disadvantages of API:\n",
    "\n",
    "Advantages:\n",
    "(i) Helps in simplification of code of the client-side.\n",
    "(ii) Never calls a particular service. eg: client interaction with API gataway.\n",
    "(iii) It encloses the whole internal structure of web applications.\n",
    "(iv) Expose service data to browser.\n",
    "(v) Supports traditional CRUD operations as it uses HTTP verbs.\n",
    "(vi) It is easy to define.\n",
    "\n",
    "Disadvantages:\n",
    "(i) Web application services will be shown only if the API is upto date.\n",
    "(ii) Time complexity increases in case of heavyweight process. \n",
    "(iii) Maintenance cost is very high.\n",
    "(iv) API creation is time consuming."
   ]
  },
  {
   "cell_type": "markdown",
   "id": "2278a647-bf43-430a-9734-7712c022b991",
   "metadata": {},
   "source": [
    "## Q3. What is a Web API? Differentiate between API and Web API."
   ]
  },
  {
   "cell_type": "code",
   "execution_count": null,
   "id": "201957aa-90b2-48fe-97b8-e9210cdd9f61",
   "metadata": {},
   "outputs": [],
   "source": [
    "Difference between API and Web API:\n",
    "(i) API uses TCP,SMTP AND HTTP protocols. Web API uses Http protocols.\n",
    "(ii) All API's are not web services. But all web services are API.\n",
    "(iii) API supports xml,json or any other formats. Web API supports xml.\n",
    "(iv) API is light weight architecture. Since Web API uses SOAP protocol it is not light weight."
   ]
  },
  {
   "cell_type": "markdown",
   "id": "8c85a2cb-f8c9-41cb-ab78-f5e6885d643f",
   "metadata": {},
   "source": [
    "## Q4. Explain REST and SOAP Architecture. Mention shortcomings of SOAP."
   ]
  },
  {
   "cell_type": "code",
   "execution_count": null,
   "id": "9f33d03c-4a25-44aa-8559-8913907319d7",
   "metadata": {},
   "outputs": [],
   "source": [
    "REST and SOAP architectures:\n",
    "\n",
    "REST:\n",
    "(i) REST stands for Representational state transfer.\n",
    "(ii) It is a client Server architecture where client sends the request and server sends the response.\n",
    "(iii) It is stateless.\n",
    "(iv) It consists of cache where the responses from the server is cached.\n",
    "(v) It has uniform interface which uses HTTP verbs-get,put,post,delete and other hyperlinks\n",
    "\n",
    "SOAP:\n",
    "(i) SOAP -Simple object access protocol\n",
    "(ii) It is a networl protocol used to exchange structured data.\n",
    "(iii) It uses Xml for data transfer.\n",
    "(iv) It consists of header,body and envelope in data transfer.\n",
    "Disadvantage of SOAP:\n",
    "(i)  SOAP uses xml and it doesnot use any other format.\n",
    "(ii) Platform is slow since its payload is large.\n",
    "(iii) It is hard to test in browsers.\n",
    "(iv) It does not hold any stateful reference to remote objects.'''"
   ]
  },
  {
   "cell_type": "markdown",
   "id": "24640b57-2adc-4a6b-af83-743a6eb93ca3",
   "metadata": {},
   "source": [
    "## Q5. Differentiate between REST and SOAP."
   ]
  },
  {
   "cell_type": "code",
   "execution_count": null,
   "id": "5a13c7df-239e-45aa-9316-17f59b545ee3",
   "metadata": {},
   "outputs": [],
   "source": [
    " Differnce between REST and SOAP architecture:\n",
    "(i) REST -Representational state transfer. SOAP -Simple object access protocol.\n",
    "(ii) REST uses Http protocol. SOAP uses TCP/SMTP protocol.\n",
    "(iii) REST is known for simplicity,scalibilty and flexibilty. SOAP is not much suited for scalability and fleibilty.\n",
    "(iv) REST is less secure. SOAP is more secure.\n",
    "(v) REST is mostly used in web based applications. SOAP is mostly used in offline appliactions.\n",
    "(vi) REST is less-structured. SOAP is highly structured."
   ]
  }
 ],
 "metadata": {
  "kernelspec": {
   "display_name": "Python 3 (ipykernel)",
   "language": "python",
   "name": "python3"
  },
  "language_info": {
   "codemirror_mode": {
    "name": "ipython",
    "version": 3
   },
   "file_extension": ".py",
   "mimetype": "text/x-python",
   "name": "python",
   "nbconvert_exporter": "python",
   "pygments_lexer": "ipython3",
   "version": "3.10.8"
  }
 },
 "nbformat": 4,
 "nbformat_minor": 5
}
