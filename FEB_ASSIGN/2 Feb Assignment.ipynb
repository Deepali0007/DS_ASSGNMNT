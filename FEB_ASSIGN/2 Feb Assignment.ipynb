{
 "cells": [
  {
   "cell_type": "markdown",
   "id": "faec66eb-84ff-43a6-9ec4-5f283a8d0e52",
   "metadata": {},
   "source": [
    "### Ques 1 - Explain with an example each when to use a for loop and a while loop?\n"
   ]
  },
  {
   "cell_type": "code",
   "execution_count": null,
   "id": "7284a8cf-15e5-4c88-bde6-18fc3fd1173f",
   "metadata": {},
   "outputs": [],
   "source": [
    "Ans - The for loop is used when we already know the number of iterations, which means when we know how many times a statement has to be executed. That is why we have to specify \n",
    "      the ending point in the for loop initialization. When we need to end the loop on a condition other than the number of times, we use a while loop.\n",
    "    "
   ]
  },
  {
   "cell_type": "markdown",
   "id": "e13bdf14-f90b-4fb1-bb01-f11fc6f31927",
   "metadata": {},
   "source": [
    "### Ques 2 - Write a python program to print the sum and product of the first 10 natural numbers using for and while loop."
   ]
  },
  {
   "cell_type": "code",
   "execution_count": 1,
   "id": "4304096d-7d78-4b11-aa6c-16a02cc4cf10",
   "metadata": {},
   "outputs": [
    {
     "name": "stdin",
     "output_type": "stream",
     "text": [
      "Enter a number:  10\n"
     ]
    },
    {
     "name": "stdout",
     "output_type": "stream",
     "text": [
      "The sum is 55\n"
     ]
    }
   ],
   "source": [
    "#while loop \n",
    "\n",
    "num = int(input(\"Enter a number: \"))  \n",
    "  \n",
    "if num < 0:  \n",
    "   print(\"Enter a positive number\")  \n",
    "else:  \n",
    "   sum = 0  \n",
    "   # use while loop to iterate untill zero  \n",
    "   while(num > 0):  \n",
    "       sum += num  \n",
    "       num -= 1  \n",
    "   print(\"The sum is\",sum) "
   ]
  },
  {
   "cell_type": "code",
   "execution_count": 12,
   "id": "f66056e8-39ce-45e4-af74-70d49c18d4f7",
   "metadata": {},
   "outputs": [
    {
     "name": "stdin",
     "output_type": "stream",
     "text": [
      "Enter a number:  10\n"
     ]
    },
    {
     "name": "stdout",
     "output_type": "stream",
     "text": [
      "Total sum is:  55\n"
     ]
    }
   ],
   "source": [
    "#for loop\n",
    "\n",
    "n = input(\"Enter a number: \")\n",
    "try:\n",
    "    n = int(n)\n",
    "    total_sum = 0\n",
    "    # sum of n numbers in python using for loop\n",
    "    for i in range(1, n+1):\n",
    "        total_sum = total_sum + i\n",
    "    print(\"Total sum is: \", total_sum)\n",
    "except:\n",
    "    print(\"Please enter a natural number\")"
   ]
  },
  {
   "cell_type": "markdown",
   "id": "0e99f3ca-a658-4b19-a1c9-a69c580e8c08",
   "metadata": {},
   "source": [
    "### Ques 3 - Create a python program to compute the electricity bill for a household.\n",
    "\n",
    "Create a list of numbers from 1 to 100. Use for loop and while loop to calculate the cube of each\n",
    "number and if the cube of that number is divisible by 4 or 5 then append that number in a list and print\n",
    "that list.\n",
    "The per-unit charges in rupees are as follows: For the first 100 units, the user will be charged Rs. 4.5 per\n",
    "unit, for the next 100 units, the user will be charged Rs. 6 per unit, and for the next 100 units, the user will\n",
    "be charged Rs. 10 per unit, After 300 units and above the user will be charged Rs. 20 per unit.\n",
    "\n",
    "Your program must pass this test case: when the unit of electricity consumed by the user in a month is\n",
    "310, the total electricity bill should be 2250."
   ]
  },
  {
   "cell_type": "code",
   "execution_count": 58,
   "id": "314505c8-8667-49f3-be55-f8981101903d",
   "metadata": {},
   "outputs": [
    {
     "name": "stdout",
     "output_type": "stream",
     "text": [
      "2250.0\n"
     ]
    }
   ],
   "source": [
    "def calculateBill(units):\n",
    " \n",
    "    if (units <= 100):\n",
    "      \n",
    "        return units * 4.5;\n",
    "     \n",
    "    elif (units <= 200):\n",
    "     \n",
    "        return ((100 * 4.5) +\n",
    "                (units - 100) * 6);\n",
    "     \n",
    "    elif (units <= 300):\n",
    "      \n",
    "        return ((100 * 4.5) +\n",
    "                (100 * 6) +\n",
    "                (units - 200) * 10);\n",
    "     \n",
    "    elif (units > 300):\n",
    "     \n",
    "        return ((100 * 4.5) +\n",
    "                (100 * 6) +\n",
    "                (100 * 10) +\n",
    "                (units - 300) * 20);\n",
    "     \n",
    "    return 0;\n",
    " \n",
    "# Driver Code\n",
    "units = 310;\n",
    "print(calculateBill(units));"
   ]
  },
  {
   "cell_type": "markdown",
   "id": "ef280cbf-b372-417e-863b-0cf591088ae9",
   "metadata": {},
   "source": [
    "### Q4. Create a list of numbers from 1 to 100. Use for loop and while loop to calculate the cube of each number and if the cube of that number is divisible by 4 or 5 then append that number in a list and print that list."
   ]
  },
  {
   "cell_type": "code",
   "execution_count": 24,
   "id": "63a0418c-1777-49d8-9dd0-916dbe5a13ef",
   "metadata": {},
   "outputs": [
    {
     "name": "stdout",
     "output_type": "stream",
     "text": [
      "The list of cubes that are divisible by 4 or 5: [8, 64, 125, 216, 512, 1000, 1728, 2744, 3375, 4096, 5832, 8000, 10648, 13824, 15625, 17576, 21952, 27000, 32768, 39304, 42875, 46656, 54872, 64000, 74088, 85184, 91125, 97336, 110592, 125000, 140608, 157464, 166375, 175616, 195112, 216000, 238328, 262144, 274625, 287496, 314432, 343000, 373248, 405224, 421875, 438976, 474552, 512000, 551368, 592704, 614125, 636056, 681472, 729000, 778688, 830584, 857375, 884736, 941192]\n"
     ]
    }
   ],
   "source": [
    "num = []\n",
    "cube_div = []\n",
    "\n",
    "for i in range(1, 100):\n",
    "    num.append(i)\n",
    "    cube = i ** 3\n",
    "    if cube % 4 == 0 or cube % 5 == 0:\n",
    "        cube_div.append(cube)\n",
    "\n",
    "print(\"The list of cubes that are divisible by 4 or 5:\", cube_div)"
   ]
  },
  {
   "cell_type": "markdown",
   "id": "030312bf-b206-4e34-a41d-70d9f519455b",
   "metadata": {},
   "source": [
    "### Ques 5 - Write a program to filter count vowels in the below-given string.\n",
    "string = \"I want to become a data scientist\""
   ]
  },
  {
   "cell_type": "code",
   "execution_count": 25,
   "id": "65e855f0-792a-43ec-93f3-1ffad65ee7cb",
   "metadata": {},
   "outputs": [
    {
     "name": "stdout",
     "output_type": "stream",
     "text": [
      "The number of vowels in the string is: 12\n"
     ]
    }
   ],
   "source": [
    "string = \"I want to become a data scientist\"\n",
    "vowels = \"aeiouAEIOU\"\n",
    "count = 0\n",
    "\n",
    "for char in string:\n",
    "    if char in vowels:\n",
    "        count += 1\n",
    "\n",
    "print(\"The number of vowels in the string is:\", count)"
   ]
  }
 ],
 "metadata": {
  "kernelspec": {
   "display_name": "Python 3 (ipykernel)",
   "language": "python",
   "name": "python3"
  },
  "language_info": {
   "codemirror_mode": {
    "name": "ipython",
    "version": 3
   },
   "file_extension": ".py",
   "mimetype": "text/x-python",
   "name": "python",
   "nbconvert_exporter": "python",
   "pygments_lexer": "ipython3",
   "version": "3.10.8"
  }
 },
 "nbformat": 4,
 "nbformat_minor": 5
}
