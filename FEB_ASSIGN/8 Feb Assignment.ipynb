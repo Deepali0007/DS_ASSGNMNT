{
 "cells": [
  {
   "cell_type": "markdown",
   "id": "509062c7-f8fe-4d4c-9dd6-1e20292832f9",
   "metadata": {},
   "source": [
    "### Q1. What is Abstraction in OOps? Explain with an example."
   ]
  },
  {
   "cell_type": "code",
   "execution_count": null,
   "id": "c37613ab-a34e-44da-ac92-20a9873ac23f",
   "metadata": {},
   "outputs": [],
   "source": [
    "Ans - Abstraction is one of the key concepts of object-oriented programming (OOP) languages. Its main goal is to handle complexity by hiding unnecessary details from the user. \n",
    "That enables the user to implement more complex logic on top of the provided abstraction without understanding or even thinking about all the hidden complexity.\n",
    "\n",
    "Example - I’m a coffee addict. So, when I wake up in the morning, I go into my kitchen, switch on the coffee machine and make coffee. Sounds familiar?\n",
    "\n",
    "Making coffee with a coffee machine is a good example of abstraction.\n",
    "\n",
    "You need to know how to use your coffee machine to make coffee. You need to provide water and coffee beans, switch it on and select the kind of coffee you want to get.\n",
    "\n",
    "The thing you don’t need to know is how the coffee machine is working internally to brew a fresh cup of delicious coffee. You don’t need to know the ideal temperature of the water or the \n",
    "amount of ground coffee you need to use.\n",
    "\n",
    "Someone else worried about that and created a coffee machine that now acts as an abstraction and hides all these details. \n",
    "You just interact with a simple interface that doesn’t require any knowledge about the internal implementation."
   ]
  },
  {
   "cell_type": "markdown",
   "id": "6d60c5c8-9f01-4e95-91b1-4ad0e5b226ac",
   "metadata": {},
   "source": [
    "### Q2. Differentiate between Abstraction and Encapsulation. Explain with an example."
   ]
  },
  {
   "cell_type": "code",
   "execution_count": null,
   "id": "d61ca9e7-9e3f-475a-b0dc-a02d073e8782",
   "metadata": {},
   "outputs": [],
   "source": [
    "Ans - Key Differences between Abstraction vs Encapsulation\n",
    "1. Abstraction shows only useful data by providing the most necessary details, whereas Encapsulation wraps code and data for necessary information.\n",
    "2. Abstraction is focused mainly on what should be done, while Encapsulation is focused on how it should be done.\n",
    "3. Abstraction hides complexity by giving you a more abstract picture, while Encapsulation hides internal work so that you can change it later.\n",
    "4. Abstraction helps you to partition the program into many independent portions, whereas Encapsulation is easy to change with new requirements.\n",
    "5. Comparing Encapsulation vs Abstraction, Abstraction solves problems at the design level while Encapsulation solves problems at the implementation level.\n",
    "6. Abstraction hides the irrelevant details found in the code, whereas Encapsulation helps developers to organize the entire code easily.\n",
    "\n",
    "Example of Abstraction - \n",
    "So let we will consider the motorcycle. A mechanic is attempting to repair your motorcycle or, say, a certain section of your motorcycle. \n",
    "You are the user, and you don’t want to know your motorcycle specifics or what portion has actually broken. You don’t care; you simply want your moto cycle in its original condition \n",
    "without worrying about the details. You told the mechanic what you wanted by separating the implementing part; this is called abstraction. The most important thing you did was fix your motorcycle \n",
    "instead of focusing on the particulars.\n",
    "\n",
    "Example of Encapsulation - \n",
    "Only you need to know the device’s behaviour without having to worry about implementing details like what sensors the Keyboard has and whether it is wireless or not etc. Every detail describes the mouse,\n",
    "but it is simply a keyboard, irrespective of the detail. You just have a keyboard interface, which is the mouse pointer in this situation, and this we called Encapsulation."
   ]
  },
  {
   "cell_type": "markdown",
   "id": "5395a634-334f-4c6e-8777-13809edeba30",
   "metadata": {},
   "source": [
    "### Q3. What is abc module in python? Why is it used?"
   ]
  },
  {
   "cell_type": "code",
   "execution_count": null,
   "id": "6a999a41-52c9-4c7d-bf3f-0fb2036380c7",
   "metadata": {},
   "outputs": [],
   "source": [
    "Ans - The main goal of the abstract base class is to provide a standardized way to test whether an object adheres to a given specification. It can also prevent any attempt to instantiate \n",
    "a subclass that doesn’t override a particular method in the superclass. And finally, using an abstract class, a class can derive identity from another class without any object inheritance."
   ]
  },
  {
   "cell_type": "markdown",
   "id": "35f85d16-d678-4ff7-8529-dcab6aa82437",
   "metadata": {},
   "source": [
    "### Q4. How can we achieve data abstraction?"
   ]
  },
  {
   "cell_type": "code",
   "execution_count": null,
   "id": "1b38b966-05e1-4eac-83a4-ae653655c131",
   "metadata": {},
   "outputs": [],
   "source": [
    "Ans - Partial abstraction is achieved by having implementations with concrete methods. Full abstraction is achieved using interfaces with abstract types that specify a class' behavior."
   ]
  },
  {
   "cell_type": "markdown",
   "id": "e1bfd861-8417-43d5-8f19-4cb0213aa4df",
   "metadata": {},
   "source": [
    "### Q5. Can we create an instance of an abstract class? Explain your answer."
   ]
  },
  {
   "cell_type": "code",
   "execution_count": null,
   "id": "9db65e52-3603-4cd5-b8a5-7a47135e0222",
   "metadata": {},
   "outputs": [],
   "source": [
    "Ans - Abstract classes are not complete, as they may have some methods that are not defined. So we cannot create an instance or object of an abstract class in Python."
   ]
  }
 ],
 "metadata": {
  "kernelspec": {
   "display_name": "Python 3 (ipykernel)",
   "language": "python",
   "name": "python3"
  },
  "language_info": {
   "codemirror_mode": {
    "name": "ipython",
    "version": 3
   },
   "file_extension": ".py",
   "mimetype": "text/x-python",
   "name": "python",
   "nbconvert_exporter": "python",
   "pygments_lexer": "ipython3",
   "version": "3.10.8"
  }
 },
 "nbformat": 4,
 "nbformat_minor": 5
}
