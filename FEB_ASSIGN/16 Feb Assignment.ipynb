{
 "cells": [
  {
   "cell_type": "markdown",
   "id": "6236ffc0-438c-4900-9156-77b1d588a245",
   "metadata": {},
   "source": [
    "# Q1. What is a database? Differentiate between SQL and NoSQL databases."
   ]
  },
  {
   "cell_type": "code",
   "execution_count": null,
   "id": "8f5751c9-8325-4348-85d5-4ce3cbba2e75",
   "metadata": {},
   "outputs": [],
   "source": [
    "Database:\n",
    "(i) Database is an organised collection of structured information that is stored electronically in computer which can be easily accessed and managed. \n",
    "(ii) It is controlled by Database Management System(DBMS). \n",
    "(iii) The main purpose of database is to operate large amount of information by storing,retreiving and managing data.\n",
    "\n",
    "Difference between sql and nosql:\n",
    "(i) sql database is also called as relational database, nosql is called as non-relational or distributed database. \n",
    "(ii) sql db has pre-defined or fixed schema, nosql has dynamic schema.\n",
    "(iii) sql db is not suited for hierarchial data storage, nosql db is best suited for hierarchial data storage. \n",
    "(iv) sql db is suited for complex queries, nosql db is not suited for complex queries. \n",
    "(v) sql db is verically scalable, nosql db is horiontally scalable. \n",
    "(vi) sql db follows ACID(Atomicity,Consistency,Isolation,Durability) property, nosql follows CAP(Consistency,Avai"
   ]
  },
  {
   "cell_type": "markdown",
   "id": "025c3b76-df5f-4ecf-9273-43456ba2561f",
   "metadata": {},
   "source": [
    "# Q2. What is DDL? Explain why CREATE, DROP, ALTER, and TRUNCATE are used with an example."
   ]
  },
  {
   "cell_type": "code",
   "execution_count": null,
   "id": "880daf7d-16d8-4e6b-a4cd-0393d5a70162",
   "metadata": {},
   "outputs": [],
   "source": [
    "DDL is the Data Definition Language used to define database schema.It deals with the description of database schema. \n",
    "It is used to create and modify the structure of database objects in the database. \n",
    "DDL is a set of commands used to create,modify and delete the database structure but not the data\n",
    "\n",
    "DDL COMMANDS:\n",
    "create- It is used to create the database or its objects. \n",
    "drop- It is used to delete the objects from the database. \n",
    "alter- It is used to alter the structure of the database. \n",
    "truncate- It is used to remove all the records from the table including the space allocated for it."
   ]
  },
  {
   "cell_type": "markdown",
   "id": "d27c22e7-18cb-4b02-a485-ff42a2b94ee4",
   "metadata": {},
   "source": [
    "# Q3. What is DML? Explain INSERT, UPDATE, and DELETE with an example."
   ]
  },
  {
   "cell_type": "code",
   "execution_count": null,
   "id": "adac12ab-16ee-4da2-a9b6-8e97c414009e",
   "metadata": {},
   "outputs": [],
   "source": [
    "DML is the Data Manipulation Language that is used to manipulate the data present in the database. It consists of insert,delete,update and lock commands\n",
    "\n",
    "Example:\n",
    "(i) insert into student('Deepali',25,'data science') \n",
    "(ii) update student set(age=25) where name='Deepali'; \n",
    "(iii) delete from student where course='data science'\n",
    "\n",
    "DML commands:\n",
    "insert- Used to insert data into the table. \n",
    "update- Used to update existing data within the table. \n",
    "delete- Used to delete data from the table."
   ]
  },
  {
   "cell_type": "markdown",
   "id": "7eba581b-5735-42bd-aa51-9de96d023ddc",
   "metadata": {},
   "source": [
    "# Q4. What is DQL? Explain SELECT with an example."
   ]
  },
  {
   "cell_type": "code",
   "execution_count": null,
   "id": "b5c73405-1618-4b38-bf10-06d87ba6a810",
   "metadata": {},
   "outputs": [],
   "source": [
    "DQL is the Data Query Language used to retreive data from the user with the help of Select command.\n",
    "\n",
    "Example:\n",
    "SELECT * from student;"
   ]
  },
  {
   "cell_type": "markdown",
   "id": "820988d5-d11e-42a7-9a65-e8c3361eb90f",
   "metadata": {},
   "source": [
    "# Q5. Explain Primary Key and Foreign Key."
   ]
  },
  {
   "cell_type": "markdown",
   "id": "bb7a5705-c39b-4ca2-88bb-6d2dc716ad45",
   "metadata": {},
   "source": [
    "### Primary Kay\n",
    "Primary key is used to ensure data in the specific column is unique.\n",
    "It uniquely identifies the data in the table. \n",
    "Only one primary key is allowed in the table. \n",
    "It is a combination of Unique and Not null constraints. \n",
    "It does not allow Null values. \n",
    "It's value cannot be deleted from the parent table. \n",
    "Its constraint can be implicity defined on the temporary tables. \n",
    "\n",
    "### Foreign Key- \n",
    "Foreign key is a column or a group of columns in a relational database table that provides a link between data in two tables.\n",
    "It refers to the field in a table which is the primary key of another table. \n",
    "More than one foreign key is allowed. \n",
    "It can contains duplicate values and table in database.\n",
    "It can also contains null value. \n",
    "Its value can be deleted from the child table. \n",
    "Its contraint cannot be defined on the local or global temporary tables."
   ]
  },
  {
   "cell_type": "markdown",
   "id": "e861b131-b027-4739-a8bc-857ef42a980c",
   "metadata": {},
   "source": [
    "# Q6. Write a python code to connect MySQL to python. Explain the cursor() and execute() method."
   ]
  },
  {
   "cell_type": "markdown",
   "id": "3dc83932-45fa-4732-a308-84804b79da6c",
   "metadata": {},
   "source": [
    "#### cursor() enables the python script to use database session to run. Connection class is used to create curson(). execute() is used to execute sql commands.\n",
    "\n"
   ]
  },
  {
   "cell_type": "code",
   "execution_count": null,
   "id": "a970e7e8-1aec-4eb9-8c8c-2f6f5167f1a8",
   "metadata": {},
   "outputs": [],
   "source": [
    "import mysql.connector\n",
    "mydb=mqsql.connector.connect(host=\"localhost\",user='abc',password='password')\n",
    "mycursor=mydb.cursor()\n",
    "mycursor.execute('show databases')\n",
    "for x in mycursor:\n",
    "    print(x)"
   ]
  }
 ],
 "metadata": {
  "kernelspec": {
   "display_name": "Python 3 (ipykernel)",
   "language": "python",
   "name": "python3"
  },
  "language_info": {
   "codemirror_mode": {
    "name": "ipython",
    "version": 3
   },
   "file_extension": ".py",
   "mimetype": "text/x-python",
   "name": "python",
   "nbconvert_exporter": "python",
   "pygments_lexer": "ipython3",
   "version": "3.10.8"
  }
 },
 "nbformat": 4,
 "nbformat_minor": 5
}
