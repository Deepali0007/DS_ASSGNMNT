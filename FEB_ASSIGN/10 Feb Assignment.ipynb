{
 "cells": [
  {
   "cell_type": "markdown",
   "id": "398d2687-a3ea-40b0-8d35-df98308b8a87",
   "metadata": {},
   "source": [
    "### Q1. Which function is used to open a file? What are the different modes of opening a file? Explain each mode of file opening."
   ]
  },
  {
   "cell_type": "code",
   "execution_count": 1,
   "id": "8635b9c7-09be-4328-b013-829afef6c34f",
   "metadata": {},
   "outputs": [
    {
     "name": "stdout",
     "output_type": "stream",
     "text": [
      "Write mode overides the exisiting content with the new content.\n",
      "Write mode overides the exisiting content with the new content.Append mode appends the new content with the old content of the file.\n"
     ]
    }
   ],
   "source": [
    "'''To open a file,open() function is used.\n",
    "Modes in open() function- Read(r),Write(w),Append(a),Binary(b),Text(t)'''\n",
    "with open(\"file1.txt\",\"w\") as f:         # write mode\n",
    "  f.write(\"Write mode overides the exisiting content with the new content.\")   \n",
    "with open(\"file1.txt\",\"r\") as f:         # read mode\n",
    "  print(f.read())\n",
    "with open(\"file1.txt\",\"a\") as f:         # append mode\n",
    "  f.write(\"Append mode appends the new content with the old content of the file.\")\n",
    "with open(\"file1.txt\",\"r\") as f:         # read mode\n",
    "  print(f.read())"
   ]
  },
  {
   "cell_type": "markdown",
   "id": "0836deca-afb5-4bd0-bef0-ff3373da27e7",
   "metadata": {},
   "source": [
    "### Q2. Why close() function is used? Why is it important to close a file?"
   ]
  },
  {
   "cell_type": "code",
   "execution_count": 2,
   "id": "ceb6e6f4-e830-43cb-a61b-bc412d9fafea",
   "metadata": {},
   "outputs": [
    {
     "name": "stdout",
     "output_type": "stream",
     "text": [
      "This is my file1\n"
     ]
    }
   ],
   "source": [
    "'''Close function is used to close the file so it no longer refer to any file and it can be reused.\n",
    "After written, only after close function we can able to see the result.'''\n",
    "f1=open(\"file1.txt\",mode='w')\n",
    "f1.write(\"This is my file1\")\n",
    "f1.close()\n",
    "with open(\"file1.txt\",mode='r') as f:\n",
    "  data=f.read()\n",
    "print(data)"
   ]
  },
  {
   "cell_type": "markdown",
   "id": "9e01ded9-eba6-4094-ba8a-083346eb587e",
   "metadata": {},
   "source": [
    "### Q3. Write a python program to create a text file. Write ‘I want to become a Data Scientist’ in that file. Then close the file. Open this file and read the content of the file."
   ]
  },
  {
   "cell_type": "code",
   "execution_count": 3,
   "id": "983a6ffa-76e5-47d3-9cc7-5db1831832b9",
   "metadata": {},
   "outputs": [
    {
     "name": "stdout",
     "output_type": "stream",
     "text": [
      "I want to become a Data Scientist\n"
     ]
    }
   ],
   "source": [
    "with open(\"text1.txt\",mode=\"w\") as f:\n",
    " f.write(\"I want to become a Data Scientist\")\n",
    "with open(\"text1.txt\",mode='r') as f:\n",
    "  data=f.read()\n",
    "print(data)"
   ]
  },
  {
   "cell_type": "markdown",
   "id": "ed5315a6-037d-44db-abdb-1b4fd770757f",
   "metadata": {},
   "source": [
    "### Q4. Explain the following with python code: read(), readline() and readlines()."
   ]
  },
  {
   "cell_type": "code",
   "execution_count": 5,
   "id": "b08f1eb3-bbe4-4ba3-a3e9-efbabdd76748",
   "metadata": {},
   "outputs": [
    {
     "name": "stdout",
     "output_type": "stream",
     "text": [
      "output for read(): \n",
      "first line\n",
      "second line\n",
      "third line\n",
      "fourth line\n",
      "fifth line\n",
      "output for readline(): \n",
      "first line\n",
      "\n",
      "output for readlines() that prints output of last 2 lines: \n",
      "['fourth line\\n', 'fifth line']\n"
     ]
    }
   ],
   "source": [
    "# read,readline,readlines:\n",
    "'''read reads the entire file and returns its string value.\n",
    "readline reads just one line from the file.\n",
    "readlines returns the list of string representing the lines of file.'''\n",
    "with open(\"text2.txt\",mode=\"w\") as f:\n",
    "  f.write(\"first line\\nsecond line\\nthird line\\nfourth line\\nfifth line\")\n",
    "print(\"output for read(): \")\n",
    "with open(\"text2.txt\",mode=\"r\") as f:\n",
    "  print(f.read())\n",
    "  f.seek(0)\n",
    "print(\"output for readline(): \")\n",
    "with open(\"text2.txt\",mode=\"r\") as f:\n",
    "  print(f.readline())\n",
    "print(\"output for readlines() that prints output of last 2 lines: \")\n",
    "with open(\"text2.txt\",mode=\"r\") as f:\n",
    "  print(f.readlines()[3:])"
   ]
  },
  {
   "cell_type": "markdown",
   "id": "f1bca323-bee8-487e-9188-b5b85cb1cb1e",
   "metadata": {},
   "source": [
    "### Q5. Explain why with statement is used with open(). What is the advantage of using with statement and open() together?"
   ]
  },
  {
   "cell_type": "code",
   "execution_count": null,
   "id": "eaf907e9-45b4-4879-ae87-5b7972d7bf19",
   "metadata": {},
   "outputs": [],
   "source": [
    "ANs -  with statement ensures that file is closed after writing is completed.\n",
    "with statement along with open() is used to avoid the error/bug that happens when we open a file that does not exists.\n",
    "If the file does not exists, it creates a dummy text in that current folder and opens. After writing the data, it closes the file\n",
    "automatically with the help of 'with' statement."
   ]
  },
  {
   "cell_type": "markdown",
   "id": "c1c48310-bf4a-4571-b33b-cbc7be33ab43",
   "metadata": {},
   "source": [
    "### Q6. Explain the write() and writelines() functions. Give a suitable example."
   ]
  },
  {
   "cell_type": "code",
   "execution_count": 8,
   "id": "392c96f0-9967-4400-8d02-a5d6fd0c134f",
   "metadata": {},
   "outputs": [
    {
     "name": "stdout",
     "output_type": "stream",
     "text": [
      "This is the example of write() function.This is within text3 file.\n",
      "I love python programming and want to become a Data Scientist.\n",
      "---------------------\n",
      "This is the example of writelines() function.This is within text4 file.\n",
      "I'm in line 0\n",
      "I'm in line 1\n",
      "I'm in line 2\n",
      "I'm in line 3\n",
      "I'm in line 4\n",
      "\n"
     ]
    }
   ],
   "source": [
    "# write and writelines():\n",
    "'''write() is used to write a string to the file\n",
    "writelines() is used to write a list of string to the file'''\n",
    "print(\"This is the example of write() function.This is within text3 file.\")\n",
    "with open(\"text3.txt\",mode=\"w\") as f:\n",
    "  f.write(\"I love python programming and want to become a Data Scientist.\")\n",
    "list1=[]\n",
    "with open(\"text3.txt\",mode=\"r\") as f:\n",
    "  print(f.read())\n",
    "with open(\"text4.txt\",mode=\"w\") as f:\n",
    "  for i in range(5):\n",
    "    line=f\"I'm in line {i}\"\n",
    "    list1.append(line+\"\\n\")\n",
    "  f.writelines(list1)\n",
    "print(\"---------------------\")\n",
    "print(\"This is the example of writelines() function.This is within text4 file.\")\n",
    "with open(\"text4.txt\",mode=\"r\") as f:\n",
    "  print(f.read())\n"
   ]
  },
  {
   "cell_type": "code",
   "execution_count": null,
   "id": "f37cfe99-a03c-4518-abca-1df2d846d456",
   "metadata": {},
   "outputs": [],
   "source": []
  }
 ],
 "metadata": {
  "kernelspec": {
   "display_name": "Python 3 (ipykernel)",
   "language": "python",
   "name": "python3"
  },
  "language_info": {
   "codemirror_mode": {
    "name": "ipython",
    "version": 3
   },
   "file_extension": ".py",
   "mimetype": "text/x-python",
   "name": "python",
   "nbconvert_exporter": "python",
   "pygments_lexer": "ipython3",
   "version": "3.10.8"
  }
 },
 "nbformat": 4,
 "nbformat_minor": 5
}
